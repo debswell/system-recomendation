{
  "nbformat": 4,
  "nbformat_minor": 0,
  "metadata": {
    "colab": {
      "provenance": []
    },
    "kernelspec": {
      "name": "python3",
      "display_name": "Python 3"
    },
    "language_info": {
      "name": "python"
    }
  },
  "cells": [
    {
      "cell_type": "markdown",
      "source": [
        "# Data Loading"
      ],
      "metadata": {
        "id": "8hmMVz1KAQP5"
      }
    },
    {
      "cell_type": "code",
      "source": [
        "import pandas as pd\n",
        "import numpy as np\n",
        "from sklearn.metrics.pairwise import cosine_similarity\n",
        "from sklearn.metrics import mean_squared_error\n",
        "from scipy.sparse import csr_matrix\n",
        "import pickle\n",
        "import warnings\n",
        "warnings.filterwarnings('ignore')"
      ],
      "metadata": {
        "id": "ZeEhKO59DBPR"
      },
      "execution_count": 1,
      "outputs": []
    },
    {
      "cell_type": "markdown",
      "source": [
        "*Kode tersebut mengimpor berbagai library penting yang digunakan untuk membangun sistem rekomendasi, seperti pandas dan numpy untuk manipulasi data, sklearn untuk menghitung kemiripan dan evaluasi model, serta scipy untuk mengelola data dalam bentuk matriks sparse agar lebih efisien. Selain itu, modul pickle digunakan untuk menyimpan dan memuat objek Python seperti model yang telah dilatih, dan warnings digunakan untuk menyembunyikan peringatan yang tidak penting agar output tetap bersih. Dengan konfigurasi ini, lingkungan kerja siap untuk membangun dan mengevaluasi sistem rekomendasi berbasis kemiripan antar data.*"
      ],
      "metadata": {
        "id": "ab0XncnGhNjI"
      }
    },
    {
      "cell_type": "code",
      "source": [
        "print(\"\\nLOADING PROCESSED DATA\")\n",
        "print(\"-\" * 30)\n",
        "\n",
        "try:\n",
        "    # Load processed data from content-based notebook\n",
        "    tourism_data = pd.read_csv('tourism_processed.csv')\n",
        "    rating_data = pd.read_csv('rating_processed.csv')\n",
        "    content_features = pd.read_csv('content_features.csv')\n",
        "\n",
        "    # Load encoders and scalers\n",
        "    with open('encoders.pkl', 'rb') as f:\n",
        "        encoders = pickle.load(f)\n",
        "\n",
        "    with open('scaler.pkl', 'rb') as f:\n",
        "        scaler = pickle.load(f)\n",
        "\n",
        "    print(\"All processed data loaded successfully!\")\n",
        "    print(f\"Tourism data: {tourism_data.shape}\")\n",
        "    print(f\"Rating data: {rating_data.shape}\")\n",
        "    print(f\"Content features: {content_features.shape}\")\n",
        "\n",
        "except FileNotFoundError as e:\n",
        "    print(f\"Error loading data: {e}\")\n",
        "    print(\"Please run content_based_recommendation.ipynb first!\")\n",
        "    print(\"Make sure the 'data' folder exists with processed files.\")\n",
        "    exit()\n"
      ],
      "metadata": {
        "colab": {
          "base_uri": "https://localhost:8080/"
        },
        "id": "RRZIz9Zq0Lfs",
        "outputId": "22fdf8d0-770b-47bb-8851-33864b50793b"
      },
      "execution_count": 2,
      "outputs": [
        {
          "output_type": "stream",
          "name": "stdout",
          "text": [
            "\n",
            "LOADING PROCESSED DATA\n",
            "------------------------------\n",
            "All processed data loaded successfully!\n",
            "Tourism data: (437, 10)\n",
            "Rating data: (9921, 3)\n",
            "Content features: (437, 11)\n"
          ]
        }
      ]
    },
    {
      "cell_type": "markdown",
      "source": [
        "*Potongan kode tersebut digunakan untuk memuat data dan model yang telah diproses sebelumnya, yang dibutuhkan dalam sistem rekomendasi. Saat dijalankan, program akan mencetak pesan bahwa proses pemuatan data sedang berlangsung, lalu mencoba membaca tiga file CSV utama—yaitu data destinasi wisata (tourism_processed.csv), data rating pengguna (rating_processed.csv), dan data fitur konten (content_features.csv)—menggunakan pandas. Selain itu, file encoder (encoders.pkl) dan scaler (scaler.pkl) juga dimuat menggunakan modul pickle untuk mengembalikan objek preprocessing seperti label encoder atau normalizer yang telah dibuat sebelumnya. Jika semua file berhasil dimuat, maka akan ditampilkan informasi bentuk (jumlah baris dan kolom) dari masing-masing data sebagai konfirmasi. Namun, jika salah satu file tidak ditemukan, program akan menangkap error FileNotFoundError, menampilkan pesan kesalahan, memberi tahu pengguna bahwa mereka harus menjalankan notebook preprocessing terlebih dahulu, dan menghentikan eksekusi program menggunakan exit()*"
      ],
      "metadata": {
        "id": "dUFrccLttYj8"
      }
    },
    {
      "cell_type": "markdown",
      "source": [
        "# Data Preparation"
      ],
      "metadata": {
        "id": "fXm0yB100_xD"
      }
    },
    {
      "cell_type": "code",
      "source": [
        "print(\"\\nDATA PREPARATION FOR COLLABORATIVE FILTERING\")\n",
        "print(\"-\" * 30)\n",
        "\n",
        "print(\"RATING DATA ANALYSIS:\")\n",
        "print(f\"Total ratings: {len(rating_data)}\")\n",
        "\n",
        "if 'User_Id' in rating_data.columns:\n",
        "    print(f\"Unique users: {rating_data['User_Id'].nunique()}\")\n",
        "    print(f\"Avg ratings per user: {len(rating_data) / rating_data['User_Id'].nunique():.2f}\")\n",
        "\n",
        "if 'Place_Id' in rating_data.columns:\n",
        "    print(f\"Unique places: {rating_data['Place_Id'].nunique()}\")\n",
        "    print(f\"Avg ratings per place: {len(rating_data) / rating_data['Place_Id'].nunique():.2f}\")\n",
        "\n",
        "if 'Place_Ratings' in rating_data.columns:\n",
        "    print(f\"Rating range: {rating_data['Place_Ratings'].min()} - {rating_data['Place_Ratings'].max()}\")\n",
        "\n",
        "# Check for required columns\n",
        "required_cols = ['User_Id', 'Place_Id', 'Place_Ratings']\n",
        "missing_cols = [col for col in required_cols if col not in rating_data.columns]\n",
        "\n",
        "if missing_cols:\n",
        "    print(f\"Missing required columns: {missing_cols}\")\n",
        "    print(\"Required columns for collaborative filtering: User_Id, Place_Id, Place_Ratings\")\n",
        "    exit()"
      ],
      "metadata": {
        "colab": {
          "base_uri": "https://localhost:8080/"
        },
        "id": "ySojzWA50sy5",
        "outputId": "c7054702-9f6c-4ebe-e329-9b8f99fc7424"
      },
      "execution_count": 3,
      "outputs": [
        {
          "output_type": "stream",
          "name": "stdout",
          "text": [
            "\n",
            "DATA PREPARATION FOR COLLABORATIVE FILTERING\n",
            "------------------------------\n",
            "RATING DATA ANALYSIS:\n",
            "Total ratings: 9921\n",
            "Unique users: 300\n",
            "Avg ratings per user: 33.07\n",
            "Unique places: 437\n",
            "Avg ratings per place: 22.70\n",
            "Rating range: 1 - 5\n"
          ]
        }
      ]
    },
    {
      "cell_type": "markdown",
      "source": [
        "*Potongan kode ini digunakan untuk menyiapkan dan menganalisis data sebelum digunakan dalam sistem collaborative filtering (rekomendasi berbasis interaksi pengguna). Pertama, program mencetak bahwa tahap persiapan data sedang dimulai. Kemudian dilakukan analisis awal terhadap data rating dengan menghitung total jumlah rating, jumlah pengguna unik (User_Id), rata-rata rating yang diberikan per pengguna, jumlah tempat unik (Place_Id), rata-rata rating yang diterima per tempat, serta rentang nilai rating (Place_Ratings). Analisis ini membantu untuk memahami distribusi dan kepadatan interaksi antara pengguna dan tempat. Setelah itu, program memeriksa apakah kolom-kolom penting yang dibutuhkan untuk collaborative filtering—yaitu User_Id, Place_Id, dan Place_Ratings—ada di dalam data. Jika salah satu dari kolom tersebut tidak ada, program mencetak peringatan bahwa kolom penting hilang dan menghentikan proses menggunakan exit(), karena tanpa ketiga kolom tersebut model collaborative filtering tidak bisa dibangun.*"
      ],
      "metadata": {
        "id": "gMd_0RIntwwQ"
      }
    },
    {
      "cell_type": "code",
      "source": [
        "print(\"\\nCREATING USER-ITEM MATRIX\")\n",
        "print(\"-\" * 30)\n",
        "\n",
        "# Create user-item rating matrix\n",
        "print(\"Creating user-item matrix...\")\n",
        "\n",
        "user_item_matrix = rating_data.pivot_table(\n",
        "    index='User_Id',\n",
        "    columns='Place_Id',\n",
        "    values='Place_Ratings',\n",
        "    fill_value=0\n",
        ")\n",
        "\n",
        "print(f\"User-item matrix created!\")\n",
        "print(f\"Shape: {user_item_matrix.shape}\")\n",
        "print(f\"Sparsity: {(user_item_matrix == 0).sum().sum() / (user_item_matrix.shape[0] * user_item_matrix.shape[1]) * 100:.2f}%\")\n",
        "\n",
        "# Convert to sparse matrix for efficiency\n",
        "user_item_sparse = csr_matrix(user_item_matrix.values)\n",
        "print(f\"Converted to sparse matrix for efficiency\")"
      ],
      "metadata": {
        "colab": {
          "base_uri": "https://localhost:8080/"
        },
        "id": "l01xRUFu1H2s",
        "outputId": "76237db7-f1d3-4fa3-943a-e7b95c5ff90f"
      },
      "execution_count": 4,
      "outputs": [
        {
          "output_type": "stream",
          "name": "stdout",
          "text": [
            "\n",
            "CREATING USER-ITEM MATRIX\n",
            "------------------------------\n",
            "Creating user-item matrix...\n",
            "User-item matrix created!\n",
            "Shape: (300, 437)\n",
            "Sparsity: 92.68%\n",
            "Converted to sparse matrix for efficiency\n"
          ]
        }
      ]
    },
    {
      "cell_type": "markdown",
      "source": [
        "*Kode ini membuat user-item matrix dari data rating, di mana baris merepresentasikan pengguna dan kolom merepresentasikan tempat wisata, dengan nilai berupa rating yang diberikan. Nilai kosong diisi dengan nol. Setelah matriks dibuat, ditampilkan ukuran (shape) dan tingkat kelangkaannya (sparsity), yang menunjukkan seberapa banyak data yang bernilai nol. Untuk efisiensi komputasi, matriks kemudian dikonversi ke bentuk sparse matrix menggunakan csr_matrix.*"
      ],
      "metadata": {
        "id": "siO4kSGJuBxe"
      }
    },
    {
      "cell_type": "code",
      "source": [
        "print(\"\\nUSER-BASED COLLABORATIVE FILTERING\")\n",
        "print(\"-\" * 30)\n",
        "\n",
        "print(\"Computing user similarity matrix...\")\n",
        "\n",
        "# Calculate user similarity using cosine similarity\n",
        "user_similarity = cosine_similarity(user_item_matrix)\n",
        "user_similarity_df = pd.DataFrame(\n",
        "    user_similarity,\n",
        "    index=user_item_matrix.index,\n",
        "    columns=user_item_matrix.index\n",
        ")\n",
        "\n",
        "print(f\"User similarity matrix created: {user_similarity_df.shape}\")\n",
        "\n",
        "def get_user_based_recommendations(user_id, n_recommendations=5, min_similarity=0.1):\n",
        "    \"\"\"\n",
        "    Get recommendations using user-based collaborative filtering\n",
        "    \"\"\"\n",
        "    try:\n",
        "        if user_id not in user_similarity_df.index:\n",
        "            print(f\"User {user_id} not found!\")\n",
        "            return None\n",
        "\n",
        "        # Get similar users\n",
        "        similar_users = user_similarity_df[user_id].sort_values(ascending=False)\n",
        "        similar_users = similar_users[similar_users > min_similarity]\n",
        "        similar_users = similar_users.drop(user_id)  # Remove the user itself\n",
        "\n",
        "        if len(similar_users) == 0:\n",
        "            print(f\"No similar users found for user {user_id}\")\n",
        "            return None\n",
        "\n",
        "        print(f\"Found {len(similar_users)} similar users\")\n",
        "\n",
        "        # Get places rated by the target user\n",
        "        user_ratings = user_item_matrix.loc[user_id]\n",
        "        unrated_places = user_ratings[user_ratings == 0].index\n",
        "\n",
        "        if len(unrated_places) == 0:\n",
        "            print(f\"User {user_id} has rated all places!\")\n",
        "            return None\n",
        "\n",
        "        # Calculate predicted ratings for unrated places\n",
        "        place_scores = {}\n",
        "\n",
        "        for place_id in unrated_places:\n",
        "            weighted_sum = 0\n",
        "            similarity_sum = 0\n",
        "\n",
        "            for similar_user, similarity in similar_users.head(10).items():  # Top 10 similar users\n",
        "                if user_item_matrix.loc[similar_user, place_id] > 0:\n",
        "                    weighted_sum += similarity * user_item_matrix.loc[similar_user, place_id]\n",
        "                    similarity_sum += similarity\n",
        "\n",
        "            if similarity_sum > 0:\n",
        "                place_scores[place_id] = weighted_sum / similarity_sum\n",
        "\n",
        "        # Sort and get top recommendations\n",
        "        sorted_places = sorted(place_scores.items(), key=lambda x: x[1], reverse=True)\n",
        "        top_recommendations = sorted_places[:n_recommendations]\n",
        "\n",
        "        if not top_recommendations:\n",
        "            print(f\"No recommendations could be generated for user {user_id}\")\n",
        "            return None\n",
        "\n",
        "        # Create recommendations dataframe\n",
        "        rec_data = []\n",
        "        for place_id, predicted_rating in top_recommendations:\n",
        "            place_info = {'Place_Id': place_id, 'Predicted_Rating': predicted_rating}\n",
        "\n",
        "            # Add place details if available\n",
        "            if 'Place_Id' in tourism_data.columns:\n",
        "                place_details = tourism_data[tourism_data['Place_Id'] == place_id]\n",
        "                if not place_details.empty:\n",
        "                    if 'Place_Name' in place_details.columns:\n",
        "                        place_info['Place_Name'] = place_details.iloc[0]['Place_Name']\n",
        "                    if 'Category' in place_details.columns:\n",
        "                        place_info['Category'] = place_details.iloc[0]['Category']\n",
        "                    if 'City' in place_details.columns:\n",
        "                        place_info['City'] = place_details.iloc[0]['City']\n",
        "\n",
        "            rec_data.append(place_info)\n",
        "\n",
        "        recommendations_df = pd.DataFrame(rec_data)\n",
        "        return recommendations_df\n",
        "\n",
        "    except Exception as e:\n",
        "        print(f\"Error in user-based recommendations: {e}\")\n",
        "        return None"
      ],
      "metadata": {
        "colab": {
          "base_uri": "https://localhost:8080/"
        },
        "id": "dyta9p_p1Qfu",
        "outputId": "1f230e0f-36c7-4fff-f27c-5496c5be9596"
      },
      "execution_count": 5,
      "outputs": [
        {
          "output_type": "stream",
          "name": "stdout",
          "text": [
            "\n",
            "USER-BASED COLLABORATIVE FILTERING\n",
            "------------------------------\n",
            "Computing user similarity matrix...\n",
            "User similarity matrix created: (300, 300)\n"
          ]
        }
      ]
    },
    {
      "cell_type": "markdown",
      "source": [
        "*Potongan kode ini menerapkan metode user-based collaborative filtering untuk memberikan rekomendasi wisata berdasarkan kemiripan antar pengguna. Pertama, program menghitung user similarity matrix menggunakan cosine similarity dari matriks user-item. Lalu, fungsi get_user_based_recommendations dibuat untuk memberikan rekomendasi bagi pengguna tertentu. Fungsi ini akan mencari pengguna yang mirip, mengecek tempat wisata yang belum dirating oleh pengguna target, lalu menghitung prediksi rating untuk tempat-tempat tersebut berdasarkan rating dari pengguna serupa. Hasil akhirnya adalah daftar rekomendasi tempat wisata dengan rating prediksi tertinggi, lengkap dengan detail nama tempat, kategori, dan kota jika tersedia.*"
      ],
      "metadata": {
        "id": "oxHlceZluNqc"
      }
    },
    {
      "cell_type": "code",
      "source": [
        "print(\"\\nITEM-BASED COLLABORATIVE FILTERING\")\n",
        "print(\"-\" * 30)\n",
        "\n",
        "print(\"Computing item similarity matrix...\")\n",
        "\n",
        "# Calculate item similarity using cosine similarity\n",
        "item_similarity = cosine_similarity(user_item_matrix.T)\n",
        "item_similarity_df = pd.DataFrame(\n",
        "    item_similarity,\n",
        "    index=user_item_matrix.columns,\n",
        "    columns=user_item_matrix.columns\n",
        ")\n",
        "\n",
        "print(f\"Item similarity matrix created: {item_similarity_df.shape}\")\n",
        "\n",
        "def get_item_based_recommendations(user_id, n_recommendations=5, min_similarity=0.1):\n",
        "    \"\"\"\n",
        "    Get recommendations using item-based collaborative filtering\n",
        "    \"\"\"\n",
        "    try:\n",
        "        if user_id not in user_item_matrix.index:\n",
        "            print(f\"User {user_id} not found!\")\n",
        "            return None\n",
        "\n",
        "        # Get user's ratings\n",
        "        user_ratings = user_item_matrix.loc[user_id]\n",
        "        rated_places = user_ratings[user_ratings > 0]\n",
        "        unrated_places = user_ratings[user_ratings == 0].index\n",
        "\n",
        "        if len(rated_places) == 0:\n",
        "            print(f\"User {user_id} has no ratings!\")\n",
        "            return None\n",
        "\n",
        "        if len(unrated_places) == 0:\n",
        "            print(f\"User {user_id} has rated all places!\")\n",
        "            return None\n",
        "\n",
        "        # Calculate predicted ratings for unrated places\n",
        "        place_scores = {}\n",
        "\n",
        "        for place_id in unrated_places:\n",
        "            weighted_sum = 0\n",
        "            similarity_sum = 0\n",
        "\n",
        "            # Find similar items that user has rated\n",
        "            similar_items = item_similarity_df[place_id].sort_values(ascending=False)\n",
        "            similar_items = similar_items[similar_items > min_similarity]\n",
        "\n",
        "            for similar_place, similarity in similar_items.items():\n",
        "                if similar_place in rated_places.index and rated_places[similar_place] > 0:\n",
        "                    weighted_sum += similarity * rated_places[similar_place]\n",
        "                    similarity_sum += similarity\n",
        "\n",
        "            if similarity_sum > 0:\n",
        "                place_scores[place_id] = weighted_sum / similarity_sum\n",
        "\n",
        "        # Sort and get top recommendations\n",
        "        sorted_places = sorted(place_scores.items(), key=lambda x: x[1], reverse=True)\n",
        "        top_recommendations = sorted_places[:n_recommendations]\n",
        "\n",
        "        if not top_recommendations:\n",
        "            print(f\"No recommendations could be generated for user {user_id}\")\n",
        "            return None\n",
        "\n",
        "        # Create recommendations dataframe\n",
        "        rec_data = []\n",
        "        for place_id, predicted_rating in top_recommendations:\n",
        "            place_info = {'Place_Id': place_id, 'Predicted_Rating': predicted_rating}\n",
        "\n",
        "            # Add place details if available\n",
        "            if 'Place_Id' in tourism_data.columns:\n",
        "                place_details = tourism_data[tourism_data['Place_Id'] == place_id]\n",
        "                if not place_details.empty:\n",
        "                    if 'Place_Name' in place_details.columns:\n",
        "                        place_info['Place_Name'] = place_details.iloc[0]['Place_Name']\n",
        "                    if 'Category' in place_details.columns:\n",
        "                        place_info['Category'] = place_details.iloc[0]['Category']\n",
        "                    if 'City' in place_details.columns:\n",
        "                        place_info['City'] = place_details.iloc[0]['City']\n",
        "\n",
        "            rec_data.append(place_info)\n",
        "\n",
        "        recommendations_df = pd.DataFrame(rec_data)\n",
        "        return recommendations_df\n",
        "\n",
        "    except Exception as e:\n",
        "        print(f\"Error in item-based recommendations: {e}\")\n",
        "        return None"
      ],
      "metadata": {
        "colab": {
          "base_uri": "https://localhost:8080/"
        },
        "id": "HTAK-UrY1ZJu",
        "outputId": "24bb050f-4f9b-47ce-ec82-cc7d3e91fcdb"
      },
      "execution_count": 6,
      "outputs": [
        {
          "output_type": "stream",
          "name": "stdout",
          "text": [
            "\n",
            "ITEM-BASED COLLABORATIVE FILTERING\n",
            "------------------------------\n",
            "Computing item similarity matrix...\n",
            "Item similarity matrix created: (437, 437)\n"
          ]
        }
      ]
    },
    {
      "cell_type": "markdown",
      "source": [
        "*Kode ini menerapkan metode item-based collaborative filtering untuk memberikan rekomendasi tempat wisata berdasarkan kemiripan antar tempat. Proses dimulai dengan menghitung item similarity matrix menggunakan cosine similarity antar kolom (tempat) dalam matriks user-item. Fungsi get_item_based_recommendations kemudian digunakan untuk memprediksi rating tempat yang belum dikunjungi oleh pengguna berdasarkan rating pengguna terhadap tempat lain yang mirip. Prediksi dilakukan dengan menghitung rata-rata tertimbang dari rating pengguna terhadap tempat yang mirip, lalu diurutkan dan diambil beberapa rekomendasi terbaik. Hasil rekomendasi dilengkapi dengan informasi nama tempat, kategori, dan kota jika tersedia.*"
      ],
      "metadata": {
        "id": "1yUvuWx9uYC_"
      }
    },
    {
      "cell_type": "code",
      "source": [
        "print(\"\\nMODEL EVALUATION\")\n",
        "print(\"-\" * 30)\n",
        "\n",
        "from sklearn.metrics import mean_squared_error\n",
        "import numpy as np\n",
        "\n",
        "def evaluate_user_item_based_cf(user_similarity_matrix, item_similarity_matrix, test_size=0.2, random_state=42):\n",
        "    \"\"\"\n",
        "    Evaluate User-Based and Item-Based Collaborative Filtering models\n",
        "    \"\"\"\n",
        "    try:\n",
        "        print(\"Evaluating User-Based and Item-Based CF models...\")\n",
        "\n",
        "        np.random.seed(random_state)\n",
        "\n",
        "        # Get all non-zero ratings\n",
        "        non_zero_ratings = []\n",
        "        for user_id in user_item_matrix.index:\n",
        "            for place_id in user_item_matrix.columns:\n",
        "                rating = user_item_matrix.loc[user_id, place_id]\n",
        "                if rating > 0:\n",
        "                    non_zero_ratings.append((user_id, place_id, rating))\n",
        "\n",
        "        # Shuffle and split\n",
        "        np.random.shuffle(non_zero_ratings)\n",
        "        split_idx = int(len(non_zero_ratings) * (1 - test_size))\n",
        "        train_ratings = non_zero_ratings[:split_idx]\n",
        "        test_ratings = non_zero_ratings[split_idx:]\n",
        "\n",
        "        print(f\"Train ratings: {len(train_ratings)}\")\n",
        "        print(f\"Test ratings: {len(test_ratings)}\")\n",
        "\n",
        "        # Create train matrix\n",
        "        train_matrix = user_item_matrix.copy()\n",
        "        for user_id, place_id, _ in test_ratings:\n",
        "            train_matrix.loc[user_id, place_id] = 0\n",
        "\n",
        "        def predict_user_based(user_id, place_id):\n",
        "            if place_id not in train_matrix.columns or user_id not in train_matrix.index:\n",
        "                return np.nan\n",
        "\n",
        "            sim_scores = user_similarity_matrix[user_id]\n",
        "            ratings = train_matrix[place_id]\n",
        "\n",
        "            mask = (ratings > 0)\n",
        "            if not mask.any():\n",
        "                return np.nan\n",
        "\n",
        "            weighted_sum = np.dot(sim_scores[mask], ratings[mask])\n",
        "            sum_weights = np.sum(np.abs(sim_scores[mask]))\n",
        "\n",
        "            return weighted_sum / sum_weights if sum_weights != 0 else np.nan\n",
        "\n",
        "        def predict_item_based(user_id, place_id):\n",
        "            if place_id not in train_matrix.columns or user_id not in train_matrix.index:\n",
        "                return np.nan\n",
        "\n",
        "            sim_scores = item_similarity_matrix[place_id]\n",
        "            ratings = train_matrix.loc[user_id]\n",
        "\n",
        "            mask = (ratings > 0)\n",
        "            if not mask.any():\n",
        "                return np.nan\n",
        "\n",
        "            weighted_sum = np.dot(sim_scores[mask], ratings[mask])\n",
        "            sum_weights = np.sum(np.abs(sim_scores[mask]))\n",
        "\n",
        "            return weighted_sum / sum_weights if sum_weights != 0 else np.nan\n",
        "\n",
        "        # Evaluate User-Based CF\n",
        "        user_predictions, user_actuals = [], []\n",
        "        for user_id, place_id, actual in test_ratings:\n",
        "            pred = predict_user_based(user_id, place_id)\n",
        "            if not np.isnan(pred):\n",
        "                user_predictions.append(pred)\n",
        "                user_actuals.append(actual)\n",
        "\n",
        "        # Evaluate Item-Based CF\n",
        "        item_predictions, item_actuals = [], []\n",
        "        for user_id, place_id, actual in test_ratings:\n",
        "            pred = predict_item_based(user_id, place_id)\n",
        "            if not np.isnan(pred):\n",
        "                item_predictions.append(pred)\n",
        "                item_actuals.append(actual)\n",
        "\n",
        "        def calc_metrics(preds, actuals):\n",
        "            rmse = np.sqrt(mean_squared_error(actuals, preds))\n",
        "            mae = np.mean(np.abs(np.array(actuals) - np.array(preds)))\n",
        "            return rmse, mae\n",
        "\n",
        "        if user_predictions:\n",
        "            user_rmse, user_mae = calc_metrics(user_predictions, user_actuals)\n",
        "            print(f\"\\nUser-Based CF Evaluation:\")\n",
        "            print(f\"RMSE: {user_rmse:.4f}\")\n",
        "            print(f\"MAE: {user_mae:.4f}\")\n",
        "        else:\n",
        "            user_rmse = user_mae = None\n",
        "            print(\"\\nUser-Based CF could not be evaluated.\")\n",
        "\n",
        "        if item_predictions:\n",
        "            item_rmse, item_mae = calc_metrics(item_predictions, item_actuals)\n",
        "            print(f\"\\nItem-Based CF Evaluation:\")\n",
        "            print(f\"RMSE: {item_rmse:.4f}\")\n",
        "            print(f\"MAE: {item_mae:.4f}\")\n",
        "        else:\n",
        "            item_rmse = item_mae = None\n",
        "            print(\"\\nItem-Based CF could not be evaluated.\")\n",
        "\n",
        "        return {\n",
        "            'user_based': {\n",
        "                'rmse': user_rmse,\n",
        "                'mae': user_mae,\n",
        "                'samples': len(user_predictions)\n",
        "            },\n",
        "            'item_based': {\n",
        "                'rmse': item_rmse,\n",
        "                'mae': item_mae,\n",
        "                'samples': len(item_predictions)\n",
        "            }\n",
        "        }\n",
        "\n",
        "    except Exception as e:\n",
        "        print(f\"Error in model evaluation: {e}\")\n",
        "        return None"
      ],
      "metadata": {
        "colab": {
          "base_uri": "https://localhost:8080/"
        },
        "id": "hTTjhu5r2DXO",
        "outputId": "3c01ddf6-2056-441d-dac8-8cad13f511ab"
      },
      "execution_count": 7,
      "outputs": [
        {
          "output_type": "stream",
          "name": "stdout",
          "text": [
            "\n",
            "MODEL EVALUATION\n",
            "------------------------------\n"
          ]
        }
      ]
    },
    {
      "cell_type": "markdown",
      "source": [
        "1. Mengumpulkan rating yang bukan nol\n",
        "\n",
        "non_zero_ratings menyimpan semua kombinasi (user_id, place_id, rating) yang memiliki rating lebih dari 0.\n",
        "\n",
        "2. Split train dan test\n",
        "\n",
        "* Mengacak seluruh data rating (np.random.shuffle)\n",
        "\n",
        "* Split berdasarkan test_size=0.2 → 80% data untuk pelatihan, 20% untuk pengujian.\n",
        "\n",
        "* Data test akan disimpan terpisah dan di-zero-out dari train_matrix.\n",
        "\n",
        "3. Prediksi rating:\n",
        "\n",
        "* User-based: Prediksi rating dari user ke tempat berdasarkan user lain yang mirip dan sudah memberikan rating pada tempat itu.\n",
        "\n",
        "* Item-based: Prediksi rating dari user ke tempat berdasarkan tempat lain yang mirip dan sudah diberi rating oleh user tersebut.\n",
        "\n",
        "Untuk keduanya:\n",
        "\n",
        "* Menggunakan skor kesamaan (similarity)\n",
        "\n",
        "* Mengalikan dengan rating yang tersedia\n",
        "\n",
        "* Dibagi dengan jumlah bobot kesamaan (agar jadi rata-rata tertimbang)\n",
        "\n",
        "4. Evaluasi dengan metrik:\n",
        "\n",
        "* RMSE: Mengukur akar dari rata-rata kuadrat selisih prediksi dan aktual\n",
        "\n",
        "* MAE: Mengukur rata-rata selisih absolut antara prediksi dan aktual"
      ],
      "metadata": {
        "id": "iQaTzgdTuy3i"
      }
    },
    {
      "cell_type": "code",
      "source": [
        "print(\"\\nRECOMMENDATION DEMONSTRATION\")\n",
        "print(\"-\" * 30)\n",
        "\n",
        "# Get sample users for demonstration\n",
        "sample_users = user_item_matrix.index[:1].tolist()\n",
        "print(f\"Demonstrating recommendations for sample users: {sample_users}\")\n",
        "\n",
        "for user_id in sample_users:\n",
        "    print(f\"\\n USER {user_id} RECOMMENDATIONS:\")\n",
        "    print(\"=\" * 40)\n",
        "\n",
        "    # Show user's current ratings\n",
        "    user_ratings = user_item_matrix.loc[user_id]\n",
        "    rated_places = user_ratings[user_ratings > 0]\n",
        "\n",
        "    print(f\"User {user_id} has rated {len(rated_places)} places\")\n",
        "    if len(rated_places) > 0:\n",
        "        print(f\"   Average rating: {rated_places.mean():.2f}\")\n",
        "        print(f\"   Rating range: {rated_places.min()} - {rated_places.max()}\")\n",
        "\n",
        "    print(\"\\nGenerating recommendations...\")\n",
        "\n",
        "    # User-based recommendations\n",
        "    print(\"\\n1. USER-BASED COLLABORATIVE FILTERING:\")\n",
        "    user_based_recs = get_user_based_recommendations(user_id, n_recommendations=3)\n",
        "    if user_based_recs is not None and not user_based_recs.empty:\n",
        "        print(user_based_recs.to_string(index=False))\n",
        "    else:\n",
        "        print(\"   No recommendations available\")\n",
        "\n",
        "    # Item-based recommendations\n",
        "    print(\"\\n2. ITEM-BASED COLLABORATIVE FILTERING:\")\n",
        "    item_based_recs = get_item_based_recommendations(user_id, n_recommendations=3)\n",
        "    if item_based_recs is not None and not item_based_recs.empty:\n",
        "        print(item_based_recs.to_string(index=False))\n",
        "    else:\n",
        "        print(\"   No recommendations available\")\n",
        "\n",
        "    print(\"\\n\" + \"=\" * 80)\n"
      ],
      "metadata": {
        "colab": {
          "base_uri": "https://localhost:8080/"
        },
        "id": "XGKIes7cUmcn",
        "outputId": "c8092573-2680-42eb-9931-ad33dbae6a8a"
      },
      "execution_count": 8,
      "outputs": [
        {
          "output_type": "stream",
          "name": "stdout",
          "text": [
            "\n",
            "RECOMMENDATION DEMONSTRATION\n",
            "------------------------------\n",
            "Demonstrating recommendations for sample users: [1]\n",
            "\n",
            " USER 1 RECOMMENDATIONS:\n",
            "========================================\n",
            "User 1 has rated 29 places\n",
            "   Average rating: 3.41\n",
            "   Rating range: 2.0 - 5.0\n",
            "\n",
            "Generating recommendations...\n",
            "\n",
            "1. USER-BASED COLLABORATIVE FILTERING:\n",
            "Found 68 similar users\n",
            " Place_Id  Predicted_Rating              Place_Name      Category    City\n",
            "       37               5.0 Bumi Perkemahan Cibubur Taman Hiburan Jakarta\n",
            "       49               5.0   Galeri Indonesia Kaya        Budaya Jakarta\n",
            "       53               5.0          Rumah Sipitung        Budaya Jakarta\n",
            "\n",
            "2. ITEM-BASED COLLABORATIVE FILTERING:\n",
            " Place_Id  Predicted_Rating               Place_Name      Category       City\n",
            "      129          4.570901       Bukit Lintang Sewu Taman Hiburan Yogyakarta\n",
            "      325          4.502747 Saung Angklung Mang Udjo        Budaya    Bandung\n",
            "      432          4.502616              Taman Mundu Taman Hiburan   Surabaya\n",
            "\n",
            "================================================================================\n"
          ]
        }
      ]
    },
    {
      "cell_type": "markdown",
      "source": [
        "1. Memilih Sample User\n",
        "\n",
        "*sample_users = user_item_matrix.index[:1].tolist()*\n",
        "\n",
        "Memilih 1 pengguna pertama dari user_item_matrix untuk didemonstrasikan.\n",
        "\n",
        "2. Menampilkan Informasi Rating\n",
        "\n",
        "* Menampilkan jumlah tempat yang sudah dirating.\n",
        "\n",
        "* Rata-rata rating dan rentang rating.\n",
        "\n",
        "3. Membuat Rekomendasi\n",
        "\n",
        "* Menggunakan dua fungsi yang diasumsikan sudah dibuat sebelumnya:\n",
        "\n",
        "  * get_user_based_recommendations(user_id, n_recommendations=3)\n",
        "\n",
        "  * get_item_based_recommendations(user_id, n_recommendations=3)\n",
        "\n",
        "* Setiap fungsi akan mengembalikan rekomendasi dalam bentuk DataFrame yang ditampilkan dengan to_string(index=False)."
      ],
      "metadata": {
        "id": "9Xxbku55vbVK"
      }
    }
  ]
}