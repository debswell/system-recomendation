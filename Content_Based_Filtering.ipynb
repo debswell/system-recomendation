{
  "nbformat": 4,
  "nbformat_minor": 0,
  "metadata": {
    "colab": {
      "provenance": []
    },
    "kernelspec": {
      "name": "python3",
      "display_name": "Python 3"
    },
    "language_info": {
      "name": "python"
    }
  },
  "cells": [
    {
      "cell_type": "markdown",
      "source": [
        "# Data Understanding"
      ],
      "metadata": {
        "id": "nj5VMb7wdyyP"
      }
    },
    {
      "cell_type": "code",
      "execution_count": 1,
      "metadata": {
        "colab": {
          "base_uri": "https://localhost:8080/",
          "height": 73
        },
        "id": "OxcobbJsdH8h",
        "outputId": "43ccbef8-893b-400b-c16d-dd32357a3fc2"
      },
      "outputs": [
        {
          "output_type": "display_data",
          "data": {
            "text/plain": [
              "<IPython.core.display.HTML object>"
            ],
            "text/html": [
              "\n",
              "     <input type=\"file\" id=\"files-d1c0a686-9f9d-4e75-bfd5-c1d221339d69\" name=\"files[]\" multiple disabled\n",
              "        style=\"border:none\" />\n",
              "     <output id=\"result-d1c0a686-9f9d-4e75-bfd5-c1d221339d69\">\n",
              "      Upload widget is only available when the cell has been executed in the\n",
              "      current browser session. Please rerun this cell to enable.\n",
              "      </output>\n",
              "      <script>// Copyright 2017 Google LLC\n",
              "//\n",
              "// Licensed under the Apache License, Version 2.0 (the \"License\");\n",
              "// you may not use this file except in compliance with the License.\n",
              "// You may obtain a copy of the License at\n",
              "//\n",
              "//      http://www.apache.org/licenses/LICENSE-2.0\n",
              "//\n",
              "// Unless required by applicable law or agreed to in writing, software\n",
              "// distributed under the License is distributed on an \"AS IS\" BASIS,\n",
              "// WITHOUT WARRANTIES OR CONDITIONS OF ANY KIND, either express or implied.\n",
              "// See the License for the specific language governing permissions and\n",
              "// limitations under the License.\n",
              "\n",
              "/**\n",
              " * @fileoverview Helpers for google.colab Python module.\n",
              " */\n",
              "(function(scope) {\n",
              "function span(text, styleAttributes = {}) {\n",
              "  const element = document.createElement('span');\n",
              "  element.textContent = text;\n",
              "  for (const key of Object.keys(styleAttributes)) {\n",
              "    element.style[key] = styleAttributes[key];\n",
              "  }\n",
              "  return element;\n",
              "}\n",
              "\n",
              "// Max number of bytes which will be uploaded at a time.\n",
              "const MAX_PAYLOAD_SIZE = 100 * 1024;\n",
              "\n",
              "function _uploadFiles(inputId, outputId) {\n",
              "  const steps = uploadFilesStep(inputId, outputId);\n",
              "  const outputElement = document.getElementById(outputId);\n",
              "  // Cache steps on the outputElement to make it available for the next call\n",
              "  // to uploadFilesContinue from Python.\n",
              "  outputElement.steps = steps;\n",
              "\n",
              "  return _uploadFilesContinue(outputId);\n",
              "}\n",
              "\n",
              "// This is roughly an async generator (not supported in the browser yet),\n",
              "// where there are multiple asynchronous steps and the Python side is going\n",
              "// to poll for completion of each step.\n",
              "// This uses a Promise to block the python side on completion of each step,\n",
              "// then passes the result of the previous step as the input to the next step.\n",
              "function _uploadFilesContinue(outputId) {\n",
              "  const outputElement = document.getElementById(outputId);\n",
              "  const steps = outputElement.steps;\n",
              "\n",
              "  const next = steps.next(outputElement.lastPromiseValue);\n",
              "  return Promise.resolve(next.value.promise).then((value) => {\n",
              "    // Cache the last promise value to make it available to the next\n",
              "    // step of the generator.\n",
              "    outputElement.lastPromiseValue = value;\n",
              "    return next.value.response;\n",
              "  });\n",
              "}\n",
              "\n",
              "/**\n",
              " * Generator function which is called between each async step of the upload\n",
              " * process.\n",
              " * @param {string} inputId Element ID of the input file picker element.\n",
              " * @param {string} outputId Element ID of the output display.\n",
              " * @return {!Iterable<!Object>} Iterable of next steps.\n",
              " */\n",
              "function* uploadFilesStep(inputId, outputId) {\n",
              "  const inputElement = document.getElementById(inputId);\n",
              "  inputElement.disabled = false;\n",
              "\n",
              "  const outputElement = document.getElementById(outputId);\n",
              "  outputElement.innerHTML = '';\n",
              "\n",
              "  const pickedPromise = new Promise((resolve) => {\n",
              "    inputElement.addEventListener('change', (e) => {\n",
              "      resolve(e.target.files);\n",
              "    });\n",
              "  });\n",
              "\n",
              "  const cancel = document.createElement('button');\n",
              "  inputElement.parentElement.appendChild(cancel);\n",
              "  cancel.textContent = 'Cancel upload';\n",
              "  const cancelPromise = new Promise((resolve) => {\n",
              "    cancel.onclick = () => {\n",
              "      resolve(null);\n",
              "    };\n",
              "  });\n",
              "\n",
              "  // Wait for the user to pick the files.\n",
              "  const files = yield {\n",
              "    promise: Promise.race([pickedPromise, cancelPromise]),\n",
              "    response: {\n",
              "      action: 'starting',\n",
              "    }\n",
              "  };\n",
              "\n",
              "  cancel.remove();\n",
              "\n",
              "  // Disable the input element since further picks are not allowed.\n",
              "  inputElement.disabled = true;\n",
              "\n",
              "  if (!files) {\n",
              "    return {\n",
              "      response: {\n",
              "        action: 'complete',\n",
              "      }\n",
              "    };\n",
              "  }\n",
              "\n",
              "  for (const file of files) {\n",
              "    const li = document.createElement('li');\n",
              "    li.append(span(file.name, {fontWeight: 'bold'}));\n",
              "    li.append(span(\n",
              "        `(${file.type || 'n/a'}) - ${file.size} bytes, ` +\n",
              "        `last modified: ${\n",
              "            file.lastModifiedDate ? file.lastModifiedDate.toLocaleDateString() :\n",
              "                                    'n/a'} - `));\n",
              "    const percent = span('0% done');\n",
              "    li.appendChild(percent);\n",
              "\n",
              "    outputElement.appendChild(li);\n",
              "\n",
              "    const fileDataPromise = new Promise((resolve) => {\n",
              "      const reader = new FileReader();\n",
              "      reader.onload = (e) => {\n",
              "        resolve(e.target.result);\n",
              "      };\n",
              "      reader.readAsArrayBuffer(file);\n",
              "    });\n",
              "    // Wait for the data to be ready.\n",
              "    let fileData = yield {\n",
              "      promise: fileDataPromise,\n",
              "      response: {\n",
              "        action: 'continue',\n",
              "      }\n",
              "    };\n",
              "\n",
              "    // Use a chunked sending to avoid message size limits. See b/62115660.\n",
              "    let position = 0;\n",
              "    do {\n",
              "      const length = Math.min(fileData.byteLength - position, MAX_PAYLOAD_SIZE);\n",
              "      const chunk = new Uint8Array(fileData, position, length);\n",
              "      position += length;\n",
              "\n",
              "      const base64 = btoa(String.fromCharCode.apply(null, chunk));\n",
              "      yield {\n",
              "        response: {\n",
              "          action: 'append',\n",
              "          file: file.name,\n",
              "          data: base64,\n",
              "        },\n",
              "      };\n",
              "\n",
              "      let percentDone = fileData.byteLength === 0 ?\n",
              "          100 :\n",
              "          Math.round((position / fileData.byteLength) * 100);\n",
              "      percent.textContent = `${percentDone}% done`;\n",
              "\n",
              "    } while (position < fileData.byteLength);\n",
              "  }\n",
              "\n",
              "  // All done.\n",
              "  yield {\n",
              "    response: {\n",
              "      action: 'complete',\n",
              "    }\n",
              "  };\n",
              "}\n",
              "\n",
              "scope.google = scope.google || {};\n",
              "scope.google.colab = scope.google.colab || {};\n",
              "scope.google.colab._files = {\n",
              "  _uploadFiles,\n",
              "  _uploadFilesContinue,\n",
              "};\n",
              "})(self);\n",
              "</script> "
            ]
          },
          "metadata": {}
        },
        {
          "output_type": "stream",
          "name": "stdout",
          "text": [
            "Saving Wisata_Indonesia.zip to Wisata_Indonesia.zip\n"
          ]
        }
      ],
      "source": [
        "from google.colab import files\n",
        "import zipfile\n",
        "\n",
        "# Mengupload file zip\n",
        "uploaded = files.upload()\n",
        "\n",
        "# Ekstrak file zip\n",
        "with zipfile.ZipFile('Wisata_Indonesia.zip', 'r') as zip_ref:\n",
        "    zip_ref.extractall('Wisata_Indonesia')"
      ]
    },
    {
      "cell_type": "markdown",
      "source": [
        "**Penjelasan Singkat**\n",
        "\n",
        "Kode tersebut digunakan untuk:\n",
        "1. Mengunggah file ZIP ke Google Colab.\n",
        "2. Mengekstrak isi file ZIP ke folder `Wisata_Indonesia`."
      ],
      "metadata": {
        "id": "T_Jk1koUwYLW"
      }
    },
    {
      "cell_type": "code",
      "source": [
        "#Loading Data\n",
        "import pandas as pd\n",
        "import numpy as np\n",
        "\n",
        "# Load semua file CSV\n",
        "package_tourism = pd.read_csv('/content/Wisata_Indonesia/package_tourism.csv')\n",
        "tourism_rating = pd.read_csv('/content/Wisata_Indonesia/tourism_rating.csv')\n",
        "tourism_with_id = pd.read_csv('/content/Wisata_Indonesia/tourism_with_id.csv')\n",
        "user = pd.read_csv('/content/Wisata_Indonesia/user.csv')"
      ],
      "metadata": {
        "id": "nl9ffnq4e-CG"
      },
      "execution_count": 2,
      "outputs": []
    },
    {
      "cell_type": "markdown",
      "source": [
        "**Penjelasan Singkat**\n",
        "\n",
        "Kode ini digunakan untuk memuat (load) data dari empat file CSV ke dalam variabel DataFrame menggunakan library `pandas`. File yang dimuat adalah:\n",
        "\n",
        "- `package_tourism.csv`\n",
        "- `tourism_rating.csv`\n",
        "- `tourism_with_id.csv`\n",
        "- `user.csv`\n"
      ],
      "metadata": {
        "id": "1H4W9V6cwoEA"
      }
    },
    {
      "cell_type": "code",
      "source": [
        "# Informasi dasar dataset\n",
        "datasets = {\n",
        "    \"Package Tourism\": package_tourism,\n",
        "    \"Tourism Rating\": tourism_rating,\n",
        "    \"Tourism with ID\": tourism_with_id,\n",
        "    \"User Data\": user\n",
        "}\n",
        "\n",
        "for name, data in datasets.items():\n",
        "    print(f\"\\n ## {name}:\")\n",
        "    print(f\"- Jumlah Data: {len(data)}\")\n",
        "    print(f\"- Kolom: {list(data.columns)}\")\n",
        "    print(f\"- Contoh Data:\\n{data.head(2)}\")\n",
        "    print(f\"- Missing Values:\\n{data.isnull().sum()}\")"
      ],
      "metadata": {
        "colab": {
          "base_uri": "https://localhost:8080/"
        },
        "id": "HdKQ_GXSfZyi",
        "outputId": "df1bcd37-f12a-49c1-f437-af0aa31560ce"
      },
      "execution_count": 3,
      "outputs": [
        {
          "output_type": "stream",
          "name": "stdout",
          "text": [
            "\n",
            " ## Package Tourism:\n",
            "- Jumlah Data: 100\n",
            "- Kolom: ['Package', 'City', 'Place_Tourism1', 'Place_Tourism2', 'Place_Tourism3', 'Place_Tourism4', 'Place_Tourism5']\n",
            "- Contoh Data:\n",
            "   Package     City     Place_Tourism1      Place_Tourism2  \\\n",
            "0        1  Jakarta  Pasar Tanah Abang        Taman Ayodya   \n",
            "1        2  Jakarta  Pasar Tanah Abang  Pasar Taman Puring   \n",
            "\n",
            "         Place_Tourism3 Place_Tourism4 Place_Tourism5  \n",
            "0        Museum Tekstil            NaN            NaN  \n",
            "1  Pasar Petak Sembilan            NaN            NaN  \n",
            "- Missing Values:\n",
            "Package            0\n",
            "City               0\n",
            "Place_Tourism1     0\n",
            "Place_Tourism2     0\n",
            "Place_Tourism3     0\n",
            "Place_Tourism4    34\n",
            "Place_Tourism5    61\n",
            "dtype: int64\n",
            "\n",
            " ## Tourism Rating:\n",
            "- Jumlah Data: 10000\n",
            "- Kolom: ['User_Id', 'Place_Id', 'Place_Ratings']\n",
            "- Contoh Data:\n",
            "   User_Id  Place_Id  Place_Ratings\n",
            "0        1       179              3\n",
            "1        1       344              2\n",
            "- Missing Values:\n",
            "User_Id          0\n",
            "Place_Id         0\n",
            "Place_Ratings    0\n",
            "dtype: int64\n",
            "\n",
            " ## Tourism with ID:\n",
            "- Jumlah Data: 437\n",
            "- Kolom: ['Place_Id', 'Place_Name', 'Description', 'Category', 'City', 'Price', 'Rating', 'Time_Minutes', 'Coordinate', 'Lat', 'Long', 'Unnamed: 11', 'Unnamed: 12']\n",
            "- Contoh Data:\n",
            "   Place_Id        Place_Name  \\\n",
            "0         1  Monumen Nasional   \n",
            "1         2          Kota Tua   \n",
            "\n",
            "                                         Description Category     City  Price  \\\n",
            "0  Monumen Nasional atau yang populer disingkat d...   Budaya  Jakarta  20000   \n",
            "1  Kota tua di Jakarta, yang juga bernama Kota Tu...   Budaya  Jakarta      0   \n",
            "\n",
            "   Rating  Time_Minutes                                       Coordinate  \\\n",
            "0     4.6          15.0          {'lat': -6.1753924, 'lng': 106.8271528}   \n",
            "1     4.6          90.0  {'lat': -6.137644799999999, 'lng': 106.8171245}   \n",
            "\n",
            "        Lat        Long  Unnamed: 11  Unnamed: 12  \n",
            "0 -6.175392  106.827153          NaN            1  \n",
            "1 -6.137645  106.817125          NaN            2  \n",
            "- Missing Values:\n",
            "Place_Id          0\n",
            "Place_Name        0\n",
            "Description       0\n",
            "Category          0\n",
            "City              0\n",
            "Price             0\n",
            "Rating            0\n",
            "Time_Minutes    232\n",
            "Coordinate        0\n",
            "Lat               0\n",
            "Long              0\n",
            "Unnamed: 11     437\n",
            "Unnamed: 12       0\n",
            "dtype: int64\n",
            "\n",
            " ## User Data:\n",
            "- Jumlah Data: 300\n",
            "- Kolom: ['User_Id', 'Location', 'Age']\n",
            "- Contoh Data:\n",
            "   User_Id               Location  Age\n",
            "0        1  Semarang, Jawa Tengah   20\n",
            "1        2     Bekasi, Jawa Barat   21\n",
            "- Missing Values:\n",
            "User_Id     0\n",
            "Location    0\n",
            "Age         0\n",
            "dtype: int64\n"
          ]
        }
      ]
    },
    {
      "cell_type": "markdown",
      "source": [
        "**Penjelasan Singkat**\n",
        "\n",
        "Kode ini memberikan informasi dasar dari setiap dataset, seperti:\n",
        "\n",
        "- Jumlah baris data\n",
        "- Nama-nama kolom\n",
        "- Contoh 2 data teratas\n",
        "- Jumlah missing values di setiap kolom\n",
        "\n",
        "Semua dilakukan untuk 4 dataset: `Package Tourism`, `Tourism Rating`, `Tourism with ID`, dan `User Data`.\n"
      ],
      "metadata": {
        "id": "nY5-U7LVwzY7"
      }
    },
    {
      "cell_type": "markdown",
      "source": [
        "# Eksplorasi Data Analisis\n"
      ],
      "metadata": {
        "id": "37KLJq-ug8RL"
      }
    },
    {
      "cell_type": "code",
      "source": [
        "# 1. Package Tourism\n",
        "print(\"\\n1.PACKAGE TOURISM DATASET\")\n",
        "print(\"=\" * 40)\n",
        "print(\"Info Dataset:\")\n",
        "print(package_tourism.info())\n",
        "print(\"\\nSample Data:\")\n",
        "print(package_tourism.head())\n",
        "print(\"\\nStatistik Deskriptif:\")\n",
        "print(package_tourism.describe())\n",
        "\n",
        "# Check missing values\n",
        "print(\"\\nMissing Values:\")\n",
        "missing_package = package_tourism.isnull().sum()\n",
        "print(missing_package[missing_package > 0])"
      ],
      "metadata": {
        "colab": {
          "base_uri": "https://localhost:8080/"
        },
        "id": "y3CtsTtxfdkK",
        "outputId": "eed80250-4682-42df-cc90-b487bbd6cba9"
      },
      "execution_count": 4,
      "outputs": [
        {
          "output_type": "stream",
          "name": "stdout",
          "text": [
            "\n",
            "1.PACKAGE TOURISM DATASET\n",
            "========================================\n",
            "Info Dataset:\n",
            "<class 'pandas.core.frame.DataFrame'>\n",
            "RangeIndex: 100 entries, 0 to 99\n",
            "Data columns (total 7 columns):\n",
            " #   Column          Non-Null Count  Dtype \n",
            "---  ------          --------------  ----- \n",
            " 0   Package         100 non-null    int64 \n",
            " 1   City            100 non-null    object\n",
            " 2   Place_Tourism1  100 non-null    object\n",
            " 3   Place_Tourism2  100 non-null    object\n",
            " 4   Place_Tourism3  100 non-null    object\n",
            " 5   Place_Tourism4  66 non-null     object\n",
            " 6   Place_Tourism5  39 non-null     object\n",
            "dtypes: int64(1), object(6)\n",
            "memory usage: 5.6+ KB\n",
            "None\n",
            "\n",
            "Sample Data:\n",
            "   Package     City         Place_Tourism1      Place_Tourism2  \\\n",
            "0        1  Jakarta      Pasar Tanah Abang        Taman Ayodya   \n",
            "1        2  Jakarta      Pasar Tanah Abang  Pasar Taman Puring   \n",
            "2        3  Jakarta  Perpustakaan Nasional               Monas   \n",
            "3        4  Jakarta           Pulau Tidung      Pulau Bidadari   \n",
            "4        5  Jakarta  Museum Satria Mandala       Museum Wayang   \n",
            "\n",
            "          Place_Tourism3                                     Place_Tourism4  \\\n",
            "0         Museum Tekstil                                                NaN   \n",
            "1   Pasar Petak Sembilan                                                NaN   \n",
            "2        Masjid Istiqlal                                                NaN   \n",
            "3             Pulau Pari                                      Pulau Pramuka   \n",
            "4  Museum Bahari Jakarta  Museum Macan (Modern and Contemporary Art in N...   \n",
            "\n",
            "  Place_Tourism5  \n",
            "0            NaN  \n",
            "1            NaN  \n",
            "2            NaN  \n",
            "3  Pulau Pelangi  \n",
            "4            NaN  \n",
            "\n",
            "Statistik Deskriptif:\n",
            "          Package\n",
            "count  100.000000\n",
            "mean    50.500000\n",
            "std     29.011492\n",
            "min      1.000000\n",
            "25%     25.750000\n",
            "50%     50.500000\n",
            "75%     75.250000\n",
            "max    100.000000\n",
            "\n",
            "Missing Values:\n",
            "Place_Tourism4    34\n",
            "Place_Tourism5    61\n",
            "dtype: int64\n"
          ]
        }
      ]
    },
    {
      "cell_type": "markdown",
      "source": [
        "**Analisis Dataset: Package Tourism**\n",
        "\n",
        "- Menampilkan informasi umum (`info()`) seperti jumlah data, tipe data, dan kolom.\n",
        "- Menampilkan 5 data teratas (`head()`).\n",
        "- Menampilkan statistik deskriptif (`describe()`) untuk kolom numerik.\n",
        "- Mengecek jumlah nilai yang hilang (`isnull().sum()`) dan hanya menampilkan kolom yang memiliki missing values.\n"
      ],
      "metadata": {
        "id": "EuyjGpygxA8y"
      }
    },
    {
      "cell_type": "code",
      "source": [
        "# 2. Tourism Rating\n",
        "print(\"\\n2 TOURISM RATING DATASET\")\n",
        "print(\"=\" * 40)\n",
        "print(\"Info Dataset:\")\n",
        "print(tourism_rating.info())\n",
        "print(\"\\nSample Data:\")\n",
        "print(tourism_rating.head())\n",
        "print(\"\\nStatistik Deskriptif:\")\n",
        "print(tourism_rating.describe())\n",
        "\n",
        "# Check missing values\n",
        "print(\"\\nMissing Values:\")\n",
        "missing_rating = tourism_rating.isnull().sum()\n",
        "print(missing_rating[missing_rating > 0])"
      ],
      "metadata": {
        "colab": {
          "base_uri": "https://localhost:8080/"
        },
        "id": "aVHJ2kF7hEFV",
        "outputId": "94b8e9eb-48b1-475b-aece-a0a4e0fc4472"
      },
      "execution_count": 5,
      "outputs": [
        {
          "output_type": "stream",
          "name": "stdout",
          "text": [
            "\n",
            "2 TOURISM RATING DATASET\n",
            "========================================\n",
            "Info Dataset:\n",
            "<class 'pandas.core.frame.DataFrame'>\n",
            "RangeIndex: 10000 entries, 0 to 9999\n",
            "Data columns (total 3 columns):\n",
            " #   Column         Non-Null Count  Dtype\n",
            "---  ------         --------------  -----\n",
            " 0   User_Id        10000 non-null  int64\n",
            " 1   Place_Id       10000 non-null  int64\n",
            " 2   Place_Ratings  10000 non-null  int64\n",
            "dtypes: int64(3)\n",
            "memory usage: 234.5 KB\n",
            "None\n",
            "\n",
            "Sample Data:\n",
            "   User_Id  Place_Id  Place_Ratings\n",
            "0        1       179              3\n",
            "1        1       344              2\n",
            "2        1         5              5\n",
            "3        1       373              3\n",
            "4        1       101              4\n",
            "\n",
            "Statistik Deskriptif:\n",
            "            User_Id      Place_Id  Place_Ratings\n",
            "count  10000.000000  10000.000000   10000.000000\n",
            "mean     151.292700    219.416400       3.066500\n",
            "std       86.137374    126.228335       1.379952\n",
            "min        1.000000      1.000000       1.000000\n",
            "25%       77.000000    108.750000       2.000000\n",
            "50%      151.000000    220.000000       3.000000\n",
            "75%      226.000000    329.000000       4.000000\n",
            "max      300.000000    437.000000       5.000000\n",
            "\n",
            "Missing Values:\n",
            "Series([], dtype: int64)\n"
          ]
        }
      ]
    },
    {
      "cell_type": "markdown",
      "source": [
        "**Analisis Dataset: Tourism Rating**\n",
        "\n",
        "- Menampilkan struktur dan tipe data pada dataset (`info()`).\n",
        "- Menampilkan 5 data teratas sebagai sampel (`head()`).\n",
        "- Menampilkan statistik deskriptif untuk kolom numerik (`describe()`).\n",
        "- Mengecek dan menampilkan kolom yang memiliki missing values (`isnull().sum()`).\n"
      ],
      "metadata": {
        "id": "a28VVHlJxNP_"
      }
    },
    {
      "cell_type": "code",
      "source": [
        "#3. Tourism with ID\n",
        "print(\"\\n3 TOURISM WITH ID DATASET\")\n",
        "print(\"=\" * 40)\n",
        "print(\"Info Dataset:\")\n",
        "print(tourism_with_id.info())\n",
        "print(\"\\nSample Data:\")\n",
        "print(tourism_with_id.head())\n",
        "print(\"\\nStatistik Deskriptif:\")\n",
        "print(tourism_with_id.describe(include='all'))\n",
        "\n",
        "# Check missing values\n",
        "print(\"\\nMissing Values:\")\n",
        "missing_tourism = tourism_with_id.isnull().sum()\n",
        "print(missing_tourism[missing_tourism > 0])"
      ],
      "metadata": {
        "colab": {
          "base_uri": "https://localhost:8080/"
        },
        "id": "okhNG5m_hcge",
        "outputId": "3a85c12a-8dcd-4a5e-e91d-3f1c7663704b"
      },
      "execution_count": 6,
      "outputs": [
        {
          "output_type": "stream",
          "name": "stdout",
          "text": [
            "\n",
            "3 TOURISM WITH ID DATASET\n",
            "========================================\n",
            "Info Dataset:\n",
            "<class 'pandas.core.frame.DataFrame'>\n",
            "RangeIndex: 437 entries, 0 to 436\n",
            "Data columns (total 13 columns):\n",
            " #   Column        Non-Null Count  Dtype  \n",
            "---  ------        --------------  -----  \n",
            " 0   Place_Id      437 non-null    int64  \n",
            " 1   Place_Name    437 non-null    object \n",
            " 2   Description   437 non-null    object \n",
            " 3   Category      437 non-null    object \n",
            " 4   City          437 non-null    object \n",
            " 5   Price         437 non-null    int64  \n",
            " 6   Rating        437 non-null    float64\n",
            " 7   Time_Minutes  205 non-null    float64\n",
            " 8   Coordinate    437 non-null    object \n",
            " 9   Lat           437 non-null    float64\n",
            " 10  Long          437 non-null    float64\n",
            " 11  Unnamed: 11   0 non-null      float64\n",
            " 12  Unnamed: 12   437 non-null    int64  \n",
            "dtypes: float64(5), int64(3), object(5)\n",
            "memory usage: 44.5+ KB\n",
            "None\n",
            "\n",
            "Sample Data:\n",
            "   Place_Id                         Place_Name  \\\n",
            "0         1                   Monumen Nasional   \n",
            "1         2                           Kota Tua   \n",
            "2         3                      Dunia Fantasi   \n",
            "3         4  Taman Mini Indonesia Indah (TMII)   \n",
            "4         5           Atlantis Water Adventure   \n",
            "\n",
            "                                         Description       Category     City  \\\n",
            "0  Monumen Nasional atau yang populer disingkat d...         Budaya  Jakarta   \n",
            "1  Kota tua di Jakarta, yang juga bernama Kota Tu...         Budaya  Jakarta   \n",
            "2  Dunia Fantasi atau disebut juga Dufan adalah t...  Taman Hiburan  Jakarta   \n",
            "3  Taman Mini Indonesia Indah merupakan suatu kaw...  Taman Hiburan  Jakarta   \n",
            "4  Atlantis Water Adventure atau dikenal dengan A...  Taman Hiburan  Jakarta   \n",
            "\n",
            "    Price  Rating  Time_Minutes  \\\n",
            "0   20000     4.6          15.0   \n",
            "1       0     4.6          90.0   \n",
            "2  270000     4.6         360.0   \n",
            "3   10000     4.5           NaN   \n",
            "4   94000     4.5          60.0   \n",
            "\n",
            "                                        Coordinate       Lat        Long  \\\n",
            "0          {'lat': -6.1753924, 'lng': 106.8271528} -6.175392  106.827153   \n",
            "1  {'lat': -6.137644799999999, 'lng': 106.8171245} -6.137645  106.817125   \n",
            "2  {'lat': -6.125312399999999, 'lng': 106.8335377} -6.125312  106.833538   \n",
            "3  {'lat': -6.302445899999999, 'lng': 106.8951559} -6.302446  106.895156   \n",
            "4             {'lat': -6.12419, 'lng': 106.839134} -6.124190  106.839134   \n",
            "\n",
            "   Unnamed: 11  Unnamed: 12  \n",
            "0          NaN            1  \n",
            "1          NaN            2  \n",
            "2          NaN            3  \n",
            "3          NaN            4  \n",
            "4          NaN            5  \n",
            "\n",
            "Statistik Deskriptif:\n",
            "          Place_Id                                 Place_Name  \\\n",
            "count   437.000000                                        437   \n",
            "unique         NaN                                        437   \n",
            "top            NaN  Gereja Perawan Maria Tak Berdosa Surabaya   \n",
            "freq           NaN                                          1   \n",
            "mean    219.000000                                        NaN   \n",
            "std     126.295289                                        NaN   \n",
            "min       1.000000                                        NaN   \n",
            "25%     110.000000                                        NaN   \n",
            "50%     219.000000                                        NaN   \n",
            "75%     328.000000                                        NaN   \n",
            "max     437.000000                                        NaN   \n",
            "\n",
            "                                              Description       Category  \\\n",
            "count                                                 437            437   \n",
            "unique                                                437              6   \n",
            "top     Gereja Katolik Kelahiran Santa Perawan Maria m...  Taman Hiburan   \n",
            "freq                                                    1            135   \n",
            "mean                                                  NaN            NaN   \n",
            "std                                                   NaN            NaN   \n",
            "min                                                   NaN            NaN   \n",
            "25%                                                   NaN            NaN   \n",
            "50%                                                   NaN            NaN   \n",
            "75%                                                   NaN            NaN   \n",
            "max                                                   NaN            NaN   \n",
            "\n",
            "              City          Price      Rating  Time_Minutes  \\\n",
            "count          437     437.000000  437.000000    205.000000   \n",
            "unique           5            NaN         NaN           NaN   \n",
            "top     Yogyakarta            NaN         NaN           NaN   \n",
            "freq           126            NaN         NaN           NaN   \n",
            "mean           NaN   24652.173913    4.442792     82.609756   \n",
            "std            NaN   66446.374709    0.208587     52.872339   \n",
            "min            NaN       0.000000    3.400000     10.000000   \n",
            "25%            NaN       0.000000    4.300000     45.000000   \n",
            "50%            NaN    5000.000000    4.500000     60.000000   \n",
            "75%            NaN   20000.000000    4.600000    120.000000   \n",
            "max            NaN  900000.000000    5.000000    360.000000   \n",
            "\n",
            "                                     Coordinate         Lat        Long  \\\n",
            "count                                       437  437.000000  437.000000   \n",
            "unique                                      437         NaN         NaN   \n",
            "top     {'lat': -7.2420758, 'lng': 112.7368158}         NaN         NaN   \n",
            "freq                                          1         NaN         NaN   \n",
            "mean                                        NaN   -7.095438  109.160142   \n",
            "std                                         NaN    0.727241    1.962848   \n",
            "min                                         NaN   -8.197894  103.931398   \n",
            "25%                                         NaN   -7.749590  107.578369   \n",
            "50%                                         NaN   -7.020524  110.237468   \n",
            "75%                                         NaN   -6.829411  110.431869   \n",
            "max                                         NaN    1.078880  112.821662   \n",
            "\n",
            "        Unnamed: 11  Unnamed: 12  \n",
            "count           0.0   437.000000  \n",
            "unique          NaN          NaN  \n",
            "top             NaN          NaN  \n",
            "freq            NaN          NaN  \n",
            "mean            NaN   219.000000  \n",
            "std             NaN   126.295289  \n",
            "min             NaN     1.000000  \n",
            "25%             NaN   110.000000  \n",
            "50%             NaN   219.000000  \n",
            "75%             NaN   328.000000  \n",
            "max             NaN   437.000000  \n",
            "\n",
            "Missing Values:\n",
            "Time_Minutes    232\n",
            "Unnamed: 11     437\n",
            "dtype: int64\n"
          ]
        }
      ]
    },
    {
      "cell_type": "markdown",
      "source": [
        "**Analisis Dataset: Tourism with ID**\n",
        "\n",
        "- Menampilkan info struktur dan tipe data dataset (`info()`).\n",
        "- Menampilkan contoh data awal (`head()`).\n",
        "- Menampilkan statistik deskriptif lengkap untuk semua kolom, termasuk kategori (`describe(include='all')`).\n",
        "- Mengecek dan menampilkan kolom yang memiliki nilai kosong/missing (`isnull().sum()`).\n"
      ],
      "metadata": {
        "id": "00v6-EM1xXoH"
      }
    },
    {
      "cell_type": "code",
      "source": [
        "#4. User Dataset\n",
        "print(\"\\n4 USER DATASET\")\n",
        "print(\"=\" * 40)\n",
        "print(\"Info Dataset:\")\n",
        "print(user.info())\n",
        "print(\"\\nSample Data:\")\n",
        "print(user.head())\n",
        "print(\"\\nStatistik Deskriptif:\")\n",
        "print(user.describe(include='all'))\n",
        "\n",
        "# Check missing values\n",
        "print(\"\\nMissing Values:\")\n",
        "missing_user = user.isnull().sum()\n",
        "print(missing_user[missing_user > 0])"
      ],
      "metadata": {
        "colab": {
          "base_uri": "https://localhost:8080/"
        },
        "id": "06uBP7L6himJ",
        "outputId": "5c316882-934c-44dd-aa6c-86e6dcaed5bf"
      },
      "execution_count": 7,
      "outputs": [
        {
          "output_type": "stream",
          "name": "stdout",
          "text": [
            "\n",
            "4 USER DATASET\n",
            "========================================\n",
            "Info Dataset:\n",
            "<class 'pandas.core.frame.DataFrame'>\n",
            "RangeIndex: 300 entries, 0 to 299\n",
            "Data columns (total 3 columns):\n",
            " #   Column    Non-Null Count  Dtype \n",
            "---  ------    --------------  ----- \n",
            " 0   User_Id   300 non-null    int64 \n",
            " 1   Location  300 non-null    object\n",
            " 2   Age       300 non-null    int64 \n",
            "dtypes: int64(2), object(1)\n",
            "memory usage: 7.2+ KB\n",
            "None\n",
            "\n",
            "Sample Data:\n",
            "   User_Id                   Location  Age\n",
            "0        1      Semarang, Jawa Tengah   20\n",
            "1        2         Bekasi, Jawa Barat   21\n",
            "2        3        Cirebon, Jawa Barat   23\n",
            "3        4         Bekasi, Jawa Barat   21\n",
            "4        5  Lampung, Sumatera Selatan   20\n",
            "\n",
            "Statistik Deskriptif:\n",
            "           User_Id            Location         Age\n",
            "count   300.000000                 300  300.000000\n",
            "unique         NaN                  28         NaN\n",
            "top            NaN  Bekasi, Jawa Barat         NaN\n",
            "freq           NaN                  39         NaN\n",
            "mean    150.500000                 NaN   28.700000\n",
            "std      86.746758                 NaN    6.393716\n",
            "min       1.000000                 NaN   18.000000\n",
            "25%      75.750000                 NaN   24.000000\n",
            "50%     150.500000                 NaN   29.000000\n",
            "75%     225.250000                 NaN   34.000000\n",
            "max     300.000000                 NaN   40.000000\n",
            "\n",
            "Missing Values:\n",
            "Series([], dtype: int64)\n"
          ]
        }
      ]
    },
    {
      "cell_type": "markdown",
      "source": [
        "**Analisis Dataset: User**\n",
        "\n",
        "- Menampilkan info struktur dan tipe data dataset (`info()`).\n",
        "- Menampilkan contoh data awal (`head()`).\n",
        "- Menampilkan statistik deskriptif lengkap untuk semua kolom (`describe(include='all')`).\n",
        "- Mengecek dan menampilkan kolom yang memiliki nilai kosong/missing (`isnull().sum()`).\n"
      ],
      "metadata": {
        "id": "FATyOfjzxiDT"
      }
    },
    {
      "cell_type": "code",
      "source": [
        "import matplotlib.pyplot as plt\n",
        "import seaborn as sns\n",
        "\n",
        "# Distribusi kategori wisata\n",
        "# Setting untuk visualisasi\n",
        "plt.style.use('default')\n",
        "sns.set_palette(\"husl\")\n",
        "fig_size = (12, 6)\n",
        "plt.figure(figsize=fig_size)\n",
        "category_counts = tourism_with_id['Category'].value_counts()\n",
        "plt.subplot(1, 2, 1)\n",
        "category_counts.plot(kind='bar', color='skyblue')\n",
        "plt.title('Distribusi Kategori Wisata')\n",
        "plt.xlabel('Kategori')\n",
        "plt.ylabel('Jumlah')\n",
        "plt.xticks(rotation=45)"
      ],
      "metadata": {
        "colab": {
          "base_uri": "https://localhost:8080/",
          "height": 782
        },
        "id": "GFhtH24pbhI_",
        "outputId": "5cebc0ba-6902-4f29-9868-8912c59cca70"
      },
      "execution_count": 8,
      "outputs": [
        {
          "output_type": "execute_result",
          "data": {
            "text/plain": [
              "(array([0, 1, 2, 3, 4, 5]),\n",
              " [Text(0, 0, 'Taman Hiburan'),\n",
              "  Text(1, 0, 'Budaya'),\n",
              "  Text(2, 0, 'Cagar Alam'),\n",
              "  Text(3, 0, 'Bahari'),\n",
              "  Text(4, 0, 'Tempat Ibadah'),\n",
              "  Text(5, 0, 'Pusat Perbelanjaan')])"
            ]
          },
          "metadata": {},
          "execution_count": 8
        },
        {
          "output_type": "display_data",
          "data": {
            "text/plain": [
              "<Figure size 1200x600 with 1 Axes>"
            ],
            "image/png": "[encoded data removed]"
          },
          "metadata": {}
        }
      ]
    },
    {
      "cell_type": "markdown",
      "source": [
        "**Visualisasi Distribusi Kategori Wisata**\n",
        "\n",
        "- Menggunakan `matplotlib` dan `seaborn` untuk membuat grafik batang distribusi kategori wisata.\n",
        "- Menampilkan jumlah data tiap kategori wisata dari dataset `tourism_with_id`.\n",
        "- Tujuan:  \n",
        "  Memahami proporsi dan sebaran data kategori wisata sebagai dasar analisis lebih lanjut.\n"
      ],
      "metadata": {
        "id": "fw55ItS4x31f"
      }
    },
    {
      "cell_type": "code",
      "source": [
        "# Top 10 kota dengan wisata terbanyak\n",
        "plt.subplot(1, 2, 2)\n",
        "city_counts = tourism_with_id['City'].value_counts().head(10)\n",
        "city_counts.plot(kind='bar', color='lightcoral')\n",
        "plt.title('Top 10 Kota dengan Wisata Terbanyak')\n",
        "plt.xlabel('Kota')\n",
        "plt.ylabel('Jumlah Wisata')\n",
        "plt.xticks(rotation=45)\n",
        "plt.tight_layout()\n",
        "plt.show()"
      ],
      "metadata": {
        "colab": {
          "base_uri": "https://localhost:8080/",
          "height": 487
        },
        "id": "488-BSA6b5Eh",
        "outputId": "7e5444d1-608f-4507-d937-e6cb2409c30c"
      },
      "execution_count": 9,
      "outputs": [
        {
          "output_type": "display_data",
          "data": {
            "text/plain": [
              "<Figure size 640x480 with 1 Axes>"
            ],
            "image/png": "[encoded data removed]"
          },
          "metadata": {}
        }
      ]
    },
    {
      "cell_type": "markdown",
      "source": [
        "**Top 10 Kota dengan Wisata Terbanyak**\n",
        "\n",
        "- Visualisasi menggunakan grafik batang untuk 10 kota dengan jumlah tempat wisata terbanyak.\n",
        "- Menggunakan data dari kolom `City` pada dataset `tourism_with_id`.\n",
        "- Tujuan:  \n",
        "  Mengetahui kota-kota dengan konsentrasi objek wisata tertinggi untuk analisis fokus wilayah.\n"
      ],
      "metadata": {
        "id": "qmjMM02Mx-rx"
      }
    },
    {
      "cell_type": "code",
      "source": [
        "# Distribusi rating\n",
        "plt.figure(figsize=fig_size)\n",
        "plt.subplot(1, 2, 1)\n",
        "tourism_with_id['Rating'].hist(bins=20, color='lightgreen', alpha=0.7)\n",
        "plt.title('Distribusi Rating Wisata')\n",
        "plt.xlabel('Rating')\n",
        "plt.ylabel('Frekuensi')"
      ],
      "metadata": {
        "colab": {
          "base_uri": "https://localhost:8080/",
          "height": 582
        },
        "id": "0IWLWP4mb978",
        "outputId": "73f12719-24ba-40b9-b455-26e8596db65f"
      },
      "execution_count": 10,
      "outputs": [
        {
          "output_type": "execute_result",
          "data": {
            "text/plain": [
              "Text(0, 0.5, 'Frekuensi')"
            ]
          },
          "metadata": {},
          "execution_count": 10
        },
        {
          "output_type": "display_data",
          "data": {
            "text/plain": [
              "<Figure size 1200x600 with 1 Axes>"
            ],
            "image/png": "[encoded data removed]"
          },
          "metadata": {}
        }
      ]
    },
    {
      "cell_type": "markdown",
      "source": [
        "**Distribusi Rating Wisata**\n",
        "\n",
        "- Visualisasi histogram untuk melihat sebaran nilai rating tempat wisata.\n",
        "- Data diambil dari kolom `Rating` pada dataset `tourism_with_id`.\n",
        "- Tujuan:  \n",
        "  Memahami bagaimana rating wisata tersebar dan mengenali pola kepuasan pengunjung.\n"
      ],
      "metadata": {
        "id": "txp2AxBZyGfM"
      }
    },
    {
      "cell_type": "code",
      "source": [
        "# Top 10 tempat wisata berdasarkan rating tertinggi\n",
        "# gabung tourism_rating dengan tourism_with_id\n",
        "merged_ratings = pd.merge(\n",
        "    tourism_rating,\n",
        "    tourism_with_id[['Place_Id', 'Place_Name']],\n",
        "    on='Place_Id',\n",
        "    how='left'\n",
        ")\n",
        "\n",
        "# Calculate average ratings per place\n",
        "top_places = merged_ratings.groupby('Place_Name')['Place_Ratings'] \\\n",
        "    .mean() \\\n",
        "    .sort_values(ascending=False) \\\n",
        "    .head(10)\n",
        "\n",
        "# Plot\n",
        "plt.figure(figsize=(10, 6))\n",
        "top_places.sort_values().plot(kind='barh', color='skyblue')\n",
        "plt.title('Top 10 tempat wisata berdasarkan rating tertinggi', fontsize=14)\n",
        "plt.xlabel('Rating')\n",
        "plt.ylabel('Tempat Wisata')\n",
        "plt.grid(axis='x', linestyle='--', alpha=0.7)\n",
        "plt.show()"
      ],
      "metadata": {
        "colab": {
          "base_uri": "https://localhost:8080/",
          "height": 565
        },
        "id": "E9cKrpjzixyp",
        "outputId": "b1ed23ca-5a1b-4c83-9799-6b8647446743"
      },
      "execution_count": 11,
      "outputs": [
        {
          "output_type": "display_data",
          "data": {
            "text/plain": [
              "<Figure size 1000x600 with 1 Axes>"
            ],
            "image/png": "[encoded data removed]"
          },
          "metadata": {}
        }
      ]
    },
    {
      "cell_type": "markdown",
      "source": [
        "**Top 10 Tempat Wisata Berdasarkan Rating Tertinggi**\n",
        "\n",
        "- Menggabungkan data rating (`tourism_rating`) dengan data tempat wisata (`tourism_with_id`) berdasarkan `Place_Id`.\n",
        "- Menghitung rata-rata rating untuk setiap tempat wisata.\n",
        "- Menampilkan 10 tempat wisata dengan rating rata-rata tertinggi dalam bentuk grafik batang horizontal.\n",
        "- Tujuan:  \n",
        "  Mengetahui tempat wisata mana yang paling disukai pengunjung berdasarkan rating tertinggi.\n"
      ],
      "metadata": {
        "id": "LD6PNV64yNuV"
      }
    },
    {
      "cell_type": "code",
      "source": [
        "# Price analysis\n",
        "if 'Price' in tourism_with_id.columns:\n",
        "    plt.subplot(1, 2, 2)\n",
        "    tourism_with_id['Price'].hist(bins=20, color='gold', alpha=0.7)\n",
        "    plt.title('Distribusi Harga')\n",
        "    plt.xlabel('Harga')\n",
        "    plt.ylabel('Frekuensi')\n",
        "else:\n",
        "    plt.subplot(1, 2, 2)\n",
        "    rating_by_category = tourism_with_id.groupby('Category')['Rating'].mean().sort_values(ascending=False)\n",
        "    rating_by_category.plot(kind='bar', color='orange')\n",
        "    plt.title('Rating Rata-rata per Kategori')\n",
        "    plt.xlabel('Kategori')\n",
        "    plt.ylabel('Rating Rata-rata')\n",
        "    plt.xticks(rotation=45)\n",
        "\n",
        "plt.tight_layout()\n",
        "plt.show()"
      ],
      "metadata": {
        "colab": {
          "base_uri": "https://localhost:8080/",
          "height": 487
        },
        "id": "qZY-1kUXjyiA",
        "outputId": "2d468683-c34e-456d-cf9d-eef94669fe17"
      },
      "execution_count": 12,
      "outputs": [
        {
          "output_type": "display_data",
          "data": {
            "text/plain": [
              "<Figure size 640x480 with 1 Axes>"
            ],
            "image/png": "[encoded data removed]"
          },
          "metadata": {}
        }
      ]
    },
    {
      "cell_type": "markdown",
      "source": [
        "**Analisis Harga atau Rating per Kategori**\n",
        "\n",
        "- Jika kolom `Price` ada, tampilkan distribusi harga tempat wisata dalam histogram.\n",
        "- Jika tidak ada kolom `Price`, tampilkan rata-rata rating berdasarkan kategori wisata dalam bentuk grafik batang.\n",
        "- Tujuan:  \n",
        "  Memahami sebaran harga tiket wisata atau melihat kategori wisata mana yang memiliki rating terbaik.\n"
      ],
      "metadata": {
        "id": "xc4HUmegyU6T"
      }
    },
    {
      "cell_type": "code",
      "source": [
        "# Distribusi rating yang diberikan user\n",
        "plt.figure(figsize=fig_size)\n",
        "plt.subplot(1, 2, 1)\n",
        "tourism_rating['Place_Ratings'].hist(bins=10, color='purple', alpha=0.7)\n",
        "plt.title('Distribusi Rating dari User')\n",
        "plt.xlabel('Rating')\n",
        "plt.ylabel('Frekuensi')"
      ],
      "metadata": {
        "colab": {
          "base_uri": "https://localhost:8080/",
          "height": 582
        },
        "id": "K4nECiQQkpYE",
        "outputId": "be9e2aa0-d4ff-4c69-d55c-8859ba269c8a"
      },
      "execution_count": 13,
      "outputs": [
        {
          "output_type": "execute_result",
          "data": {
            "text/plain": [
              "Text(0, 0.5, 'Frekuensi')"
            ]
          },
          "metadata": {},
          "execution_count": 13
        },
        {
          "output_type": "display_data",
          "data": {
            "text/plain": [
              "<Figure size 1200x600 with 1 Axes>"
            ],
            "image/png": "[encoded data removed]"
          },
          "metadata": {}
        }
      ]
    },
    {
      "cell_type": "markdown",
      "source": [
        "**Distribusi Rating dari User**\n",
        "\n",
        "- Visualisasi histogram untuk melihat sebaran nilai rating yang diberikan oleh pengguna.\n",
        "- Tujuan:  \n",
        "  Memahami pola penilaian pengguna terhadap tempat wisata, apakah cenderung memberikan rating tinggi, rendah, atau bervariasi.\n"
      ],
      "metadata": {
        "id": "TEk_rSr5ydgy"
      }
    },
    {
      "cell_type": "code",
      "source": [
        "# User yang paling aktif memberikan rating\n",
        "plt.subplot(1, 2, 2)\n",
        "user_activity = tourism_rating['User_Id'].value_counts().head(10)\n",
        "user_activity.plot(kind='bar', color='teal')\n",
        "plt.title('Top 10 User Paling Aktif')\n",
        "plt.xlabel('User ID')\n",
        "plt.ylabel('Jumlah Rating')\n",
        "plt.tight_layout()\n",
        "plt.show()"
      ],
      "metadata": {
        "id": "KkwKOfzPniN8",
        "colab": {
          "base_uri": "https://localhost:8080/",
          "height": 487
        },
        "outputId": "2a42dc8f-d533-4dd0-ea2d-790e06984102"
      },
      "execution_count": 14,
      "outputs": [
        {
          "output_type": "display_data",
          "data": {
            "text/plain": [
              "<Figure size 640x480 with 1 Axes>"
            ],
            "image/png": "[encoded data removed]"
          },
          "metadata": {}
        }
      ]
    },
    {
      "cell_type": "markdown",
      "source": [
        "**User Paling Aktif Memberikan Rating**\n",
        "\n",
        "- Visualisasi bar chart untuk 10 user yang paling banyak memberikan rating.\n",
        "- Tujuan:  \n",
        "  Mengidentifikasi user yang paling aktif berkontribusi dalam memberikan penilaian, berguna untuk analisis perilaku pengguna atau filtering data.\n"
      ],
      "metadata": {
        "id": "hyshtnC4ykdo"
      }
    },
    {
      "cell_type": "code",
      "source": [
        "# Statistik deskriptif\n",
        "print(\"\\nSTATISTIK DESKRIPTIF:\")\n",
        "print(\"\\nTourism Data:\")\n",
        "print(tourism_with_id.describe())\n",
        "print(\"\\nRating Data:\")\n",
        "print(tourism_rating.describe())"
      ],
      "metadata": {
        "colab": {
          "base_uri": "https://localhost:8080/"
        },
        "id": "sOitzwUcsAjL",
        "outputId": "348c59bf-dc94-48f6-ae45-980855e97ec5"
      },
      "execution_count": 15,
      "outputs": [
        {
          "output_type": "stream",
          "name": "stdout",
          "text": [
            "\n",
            "STATISTIK DESKRIPTIF:\n",
            "\n",
            "Tourism Data:\n",
            "         Place_Id          Price      Rating  Time_Minutes         Lat  \\\n",
            "count  437.000000     437.000000  437.000000    205.000000  437.000000   \n",
            "mean   219.000000   24652.173913    4.442792     82.609756   -7.095438   \n",
            "std    126.295289   66446.374709    0.208587     52.872339    0.727241   \n",
            "min      1.000000       0.000000    3.400000     10.000000   -8.197894   \n",
            "25%    110.000000       0.000000    4.300000     45.000000   -7.749590   \n",
            "50%    219.000000    5000.000000    4.500000     60.000000   -7.020524   \n",
            "75%    328.000000   20000.000000    4.600000    120.000000   -6.829411   \n",
            "max    437.000000  900000.000000    5.000000    360.000000    1.078880   \n",
            "\n",
            "             Long  Unnamed: 11  Unnamed: 12  \n",
            "count  437.000000          0.0   437.000000  \n",
            "mean   109.160142          NaN   219.000000  \n",
            "std      1.962848          NaN   126.295289  \n",
            "min    103.931398          NaN     1.000000  \n",
            "25%    107.578369          NaN   110.000000  \n",
            "50%    110.237468          NaN   219.000000  \n",
            "75%    110.431869          NaN   328.000000  \n",
            "max    112.821662          NaN   437.000000  \n",
            "\n",
            "Rating Data:\n",
            "            User_Id      Place_Id  Place_Ratings\n",
            "count  10000.000000  10000.000000   10000.000000\n",
            "mean     151.292700    219.416400       3.066500\n",
            "std       86.137374    126.228335       1.379952\n",
            "min        1.000000      1.000000       1.000000\n",
            "25%       77.000000    108.750000       2.000000\n",
            "50%      151.000000    220.000000       3.000000\n",
            "75%      226.000000    329.000000       4.000000\n",
            "max      300.000000    437.000000       5.000000\n"
          ]
        }
      ]
    },
    {
      "cell_type": "markdown",
      "source": [
        "**Statistik Deskriptif**\n",
        "\n",
        "- Menampilkan ringkasan statistik dasar dari dataset wisata (`tourism_with_id`) dan rating (`tourism_rating`).\n",
        "- Tujuan:  \n",
        "  Untuk memahami distribusi, nilai rata-rata, minimum, maksimum, dan variasi data yang ada sebagai dasar analisis lebih lanjut.\n"
      ],
      "metadata": {
        "id": "EDPo861CysKn"
      }
    },
    {
      "cell_type": "code",
      "source": [
        "# Kategori wisata\n",
        "plt.figure(figsize=(15, 5))\n",
        "plt.subplot(1, 2, 1)\n",
        "if 'Category' in tourism_with_id.columns:\n",
        "    category_counts = tourism_with_id['Category'].value_counts()\n",
        "    plt.pie(category_counts.values, labels=category_counts.index, autopct='%1.1f%%')\n",
        "    plt.title('Distribusi Kategori Wisata')\n",
        "\n",
        "plt.tight_layout()\n",
        "plt.show()"
      ],
      "metadata": {
        "colab": {
          "base_uri": "https://localhost:8080/",
          "height": 507
        },
        "id": "4iXlBBSmsN5D",
        "outputId": "62b37d5d-07ff-415b-e28f-1a75cd78e0dc"
      },
      "execution_count": 16,
      "outputs": [
        {
          "output_type": "display_data",
          "data": {
            "text/plain": [
              "<Figure size 1500x500 with 1 Axes>"
            ],
            "image/png": "[encoded data removed]"
          },
          "metadata": {}
        }
      ]
    },
    {
      "cell_type": "markdown",
      "source": [
        "**Visualisasi Kategori Wisata**\n",
        "\n",
        "- Membuat diagram pie untuk menunjukkan persentase distribusi kategori wisata.  \n",
        "- Tujuan: Memahami proporsi masing-masing kategori dalam data wisata secara visual.\n"
      ],
      "metadata": {
        "id": "OCXRGT6xy4hL"
      }
    },
    {
      "cell_type": "code",
      "source": [
        "#Korelasi Antar Dataset\n",
        "# Check common columns untuk join\n",
        "common_cols = []\n",
        "for name1, df1 in datasets.items():\n",
        "    for name2, df2 in datasets.items():\n",
        "        if name1 != name2:\n",
        "            common = set(df1.columns).intersection(set(df2.columns))\n",
        "            if common:\n",
        "                print(f\"{name1} & {name2}: {common}\")"
      ],
      "metadata": {
        "colab": {
          "base_uri": "https://localhost:8080/"
        },
        "id": "ZkfRIknMscU0",
        "outputId": "b5c1b4fd-fd97-4ae5-a26a-0845965f6292"
      },
      "execution_count": 17,
      "outputs": [
        {
          "output_type": "stream",
          "name": "stdout",
          "text": [
            "Package Tourism & Tourism with ID: {'City'}\n",
            "Tourism Rating & Tourism with ID: {'Place_Id'}\n",
            "Tourism Rating & User Data: {'User_Id'}\n",
            "Tourism with ID & Package Tourism: {'City'}\n",
            "Tourism with ID & Tourism Rating: {'Place_Id'}\n",
            "User Data & Tourism Rating: {'User_Id'}\n"
          ]
        }
      ]
    },
    {
      "cell_type": "markdown",
      "source": [
        "**Korelasi Antar Dataset**\n",
        "\n",
        "- Memeriksa kolom yang sama (common columns) antar dataset untuk kemungkinan penggabungan (join).  \n",
        "- Tujuan: Menemukan relasi antar dataset sehingga data bisa digabung dan dianalisis bersama.\n"
      ],
      "metadata": {
        "id": "OFdF4nCxzA18"
      }
    },
    {
      "cell_type": "code",
      "source": [
        "#Kualitas Data\n",
        "def assess_data_quality(df, name):\n",
        "    print(f\"\\n{name}:\")\n",
        "    total_cells = df.shape[0] * df.shape[1]\n",
        "    missing_cells = df.isnull().sum().sum()\n",
        "\n",
        "    print(f\"- Missing Values: {missing_cells}/{total_cells} ({missing_cells/total_cells*100:.2f}%)\")\n",
        "    print(f\"- Duplicate Rows: {df.duplicated().sum()}\")\n",
        "\n",
        "    # Check for potential outliers in numeric columns\n",
        "    numeric_cols = df.select_dtypes(include=[np.number]).columns\n",
        "    if len(numeric_cols) > 0:\n",
        "        print(f\"- Numeric Columns: {len(numeric_cols)}\")\n",
        "        for col in numeric_cols:\n",
        "            Q1 = df[col].quantile(0.25)\n",
        "            Q3 = df[col].quantile(0.75)\n",
        "            IQR = Q3 - Q1\n",
        "            outliers = df[(df[col] < Q1 - 1.5*IQR) | (df[col] > Q3 + 1.5*IQR)][col].count()\n",
        "            if outliers > 0:\n",
        "                print(f\"  - {col}: {outliers} potential outliers\")\n",
        "\n",
        "for name, df in datasets.items():\n",
        "    assess_data_quality(df, name)"
      ],
      "metadata": {
        "colab": {
          "base_uri": "https://localhost:8080/"
        },
        "id": "LgtdrpdYs-vg",
        "outputId": "d6f340f2-5590-4dda-ea85-5bd462b5aab2"
      },
      "execution_count": 18,
      "outputs": [
        {
          "output_type": "stream",
          "name": "stdout",
          "text": [
            "\n",
            "Package Tourism:\n",
            "- Missing Values: 95/700 (13.57%)\n",
            "- Duplicate Rows: 0\n",
            "- Numeric Columns: 1\n",
            "\n",
            "Tourism Rating:\n",
            "- Missing Values: 0/30000 (0.00%)\n",
            "- Duplicate Rows: 79\n",
            "- Numeric Columns: 3\n",
            "\n",
            "Tourism with ID:\n",
            "- Missing Values: 669/5681 (11.78%)\n",
            "- Duplicate Rows: 0\n",
            "- Numeric Columns: 8\n",
            "  - Price: 40 potential outliers\n",
            "  - Rating: 3 potential outliers\n",
            "  - Time_Minutes: 4 potential outliers\n",
            "  - Lat: 1 potential outliers\n",
            "\n",
            "User Data:\n",
            "- Missing Values: 0/900 (0.00%)\n",
            "- Duplicate Rows: 0\n",
            "- Numeric Columns: 2\n"
          ]
        }
      ]
    },
    {
      "cell_type": "markdown",
      "source": [
        "**Kualitas Data**\n",
        "\n",
        "Fungsi `assess_data_quality` digunakan untuk mengevaluasi kualitas data pada setiap dataset dengan:\n",
        "\n",
        "- Menghitung *missing values* dan persentasenya.\n",
        "- Menghitung *jumlah baris duplikat*.\n",
        "- Mendeteksi *potensi outlier* pada kolom numerik menggunakan metode IQR.\n",
        "\n",
        "**Tujuan:**  \n",
        "Memastikan data bersih dan layak untuk analisis atau pemodelan lebih lanjut dengan mengetahui masalah yang mungkin ada seperti nilai hilang, data duplikat, dan outlier.\n"
      ],
      "metadata": {
        "id": "if4gqWmLzKg9"
      }
    },
    {
      "cell_type": "markdown",
      "source": [
        "# Data Preprocessing"
      ],
      "metadata": {
        "id": "4L7bB1boBiWv"
      }
    },
    {
      "cell_type": "code",
      "source": [
        "\n",
        "# Hapus nilai kosong dan duplikat\n",
        "print(\"Sebelum Cleaning:\")\n",
        "print(f\"- tourism_with_id null:\\n{tourism_with_id.isnull().sum()}\")\n",
        "print(f\"- tourism_rating null:\\n{tourism_rating.isnull().sum()}\")"
      ],
      "metadata": {
        "colab": {
          "base_uri": "https://localhost:8080/"
        },
        "id": "v6NOjNUBc8eZ",
        "outputId": "e7bac81a-8383-4a05-ab62-572e58bc4195"
      },
      "execution_count": 19,
      "outputs": [
        {
          "output_type": "stream",
          "name": "stdout",
          "text": [
            "Sebelum Cleaning:\n",
            "- tourism_with_id null:\n",
            "Place_Id          0\n",
            "Place_Name        0\n",
            "Description       0\n",
            "Category          0\n",
            "City              0\n",
            "Price             0\n",
            "Rating            0\n",
            "Time_Minutes    232\n",
            "Coordinate        0\n",
            "Lat               0\n",
            "Long              0\n",
            "Unnamed: 11     437\n",
            "Unnamed: 12       0\n",
            "dtype: int64\n",
            "- tourism_rating null:\n",
            "User_Id          0\n",
            "Place_Id         0\n",
            "Place_Ratings    0\n",
            "dtype: int64\n"
          ]
        }
      ]
    },
    {
      "cell_type": "markdown",
      "source": [
        "**Pengecekan Nilai Kosong Sebelum Pembersihan**\n",
        "\n",
        "Kode ini menampilkan jumlah nilai kosong (null) pada dataset `tourism_with_id` dan `tourism_rating` sebelum proses pembersihan data.\n",
        "\n",
        "**Tujuan:**  \n",
        "Untuk mengetahui berapa banyak data yang hilang agar bisa diputuskan langkah pembersihan selanjutnya, seperti menghapus atau mengisi nilai kosong tersebut.\n"
      ],
      "metadata": {
        "id": "QVi2x_YAzUuA"
      }
    },
    {
      "cell_type": "code",
      "source": [
        "# Isi missing values di 'Time_Minutes' dengan median\n",
        "tourism_with_id['Time_Minutes'].fillna(\n",
        "    tourism_with_id['Time_Minutes'].median(),\n",
        "    inplace=True\n",
        ")"
      ],
      "metadata": {
        "colab": {
          "base_uri": "https://localhost:8080/"
        },
        "id": "qMPoVBPiJaIH",
        "outputId": "f800da88-99b6-4c98-8be0-abb52127574a"
      },
      "execution_count": 20,
      "outputs": [
        {
          "output_type": "stream",
          "name": "stderr",
          "text": [
            "<ipython-input-20-a1b32bb069cb>:2: FutureWarning: A value is trying to be set on a copy of a DataFrame or Series through chained assignment using an inplace method.\n",
            "The behavior will change in pandas 3.0. This inplace method will never work because the intermediate object on which we are setting values always behaves as a copy.\n",
            "\n",
            "For example, when doing 'df[col].method(value, inplace=True)', try using 'df.method({col: value}, inplace=True)' or df[col] = df[col].method(value) instead, to perform the operation inplace on the original object.\n",
            "\n",
            "\n",
            "  tourism_with_id['Time_Minutes'].fillna(\n"
          ]
        }
      ]
    },
    {
      "cell_type": "markdown",
      "source": [
        "**Mengisi Nilai Kosong pada Kolom 'Time_Minutes'**\n",
        "\n",
        "Kode ini mengisi nilai kosong (missing values) di kolom `Time_Minutes` pada dataset `tourism_with_id` dengan nilai median dari kolom tersebut.\n",
        "\n",
        "**Tujuan:**  \n",
        "Menghindari hilangnya data dan menjaga distribusi data agar tetap representatif dengan mengganti nilai kosong menggunakan nilai tengah (median).\n"
      ],
      "metadata": {
        "id": "qscwodoAzgEA"
      }
    },
    {
      "cell_type": "code",
      "source": [
        "# Hapus kolom yang tidak digunakan\n",
        "tourism_with_id_clean = tourism_with_id.drop([\n",
        "    'Unnamed: 11',\n",
        "    'Unnamed: 12',\n",
        "    'Coordinate',\n",
        "    'Lat',\n",
        "    'Long'\n",
        "], axis=1)"
      ],
      "metadata": {
        "id": "3NJ2TRufJfh8"
      },
      "execution_count": 21,
      "outputs": []
    },
    {
      "cell_type": "markdown",
      "source": [
        "**Menghapus Kolom yang Tidak Digunakan**\n",
        "\n",
        "Kode ini menghapus kolom-kolom yang tidak relevan atau tidak diperlukan dalam analisis dari dataset `tourism_with_id`, seperti kolom `Unnamed: 11`, `Unnamed: 12`, dan data koordinat (`Coordinate`, `Lat`, `Long`).\n",
        "\n",
        "**Tujuan:**  \n",
        "Menyederhanakan dataset agar lebih fokus dan efisien untuk analisis berikutnya dengan membuang kolom-kolom yang tidak penting.\n"
      ],
      "metadata": {
        "id": "d21LioFHzutf"
      }
    },
    {
      "cell_type": "code",
      "source": [
        "# Contoh: Ubah \"Adventure\" menjadi \"Alam\" jika maksudnya sama\n",
        "tourism_with_id_clean['Category'] = tourism_with_id_clean['Category'].replace({\n",
        "    'Adventure': 'Alam',\n",
        "    'Nature': 'Alam'\n",
        "})"
      ],
      "metadata": {
        "id": "VMTTP890J386"
      },
      "execution_count": 22,
      "outputs": []
    },
    {
      "cell_type": "markdown",
      "source": [
        "**Konsolidasi Kategori Wisata**\n",
        "\n",
        "Kode ini mengubah kategori wisata dengan nama berbeda tapi maknanya sama menjadi satu nama yang konsisten, misalnya mengubah \"Adventure\" dan \"Nature\" menjadi \"Alam\".\n",
        "\n",
        "**Tujuan:**  \n",
        "Menyatukan kategori yang serupa untuk memudahkan analisis dan visualisasi yang lebih jelas dan terstruktur.\n"
      ],
      "metadata": {
        "id": "KMJCMo2nz1ru"
      }
    },
    {
      "cell_type": "code",
      "source": [
        "#cek duplikasi data\n",
        "print(tourism_with_id_clean.duplicated().sum())\n",
        "print(tourism_rating.duplicated().sum())"
      ],
      "metadata": {
        "colab": {
          "base_uri": "https://localhost:8080/"
        },
        "id": "tl3RHbipJ_5n",
        "outputId": "5edec69f-a6e1-4f5c-b387-21335ad25deb"
      },
      "execution_count": 23,
      "outputs": [
        {
          "output_type": "stream",
          "name": "stdout",
          "text": [
            "0\n",
            "79\n"
          ]
        }
      ]
    },
    {
      "cell_type": "markdown",
      "source": [
        "**Cek Duplikasi Data**\n",
        "\n",
        "Kode ini menghitung jumlah baris data yang duplikat pada dua dataset: `tourism_with_id_clean` dan `tourism_rating`.\n",
        "\n",
        "**Tujuan:**  \n",
        "Mengetahui apakah ada data yang sama persis muncul lebih dari sekali sehingga perlu ditangani agar analisis data lebih akurat dan tidak bias.\n"
      ],
      "metadata": {
        "id": "WEMijFMRz75P"
      }
    },
    {
      "cell_type": "code",
      "source": [
        "#Hapus dupliaksi data pada\n",
        "tourism_rating = tourism_rating.drop_duplicates()"
      ],
      "metadata": {
        "id": "8OEg2R_WfNT5"
      },
      "execution_count": 24,
      "outputs": []
    },
    {
      "cell_type": "markdown",
      "source": [
        "**Hapus Duplikat**\n",
        "\n",
        "menghapus dat ayang duplikat di file tourism_rating"
      ],
      "metadata": {
        "id": "oxzmxY6bz_fr"
      }
    },
    {
      "cell_type": "code",
      "source": [
        "from sklearn.preprocessing import LabelEncoder\n",
        "\n",
        "encoders = {}\n",
        "# Encode 'Category'\n",
        "category_encoder = LabelEncoder()\n",
        "encoders['Category_Encoded'] = category_encoder.fit_transform(\n",
        "    tourism_with_id_clean['Category']\n",
        ")\n",
        "\n",
        "# Encode 'City'\n",
        "city_encoder = LabelEncoder()\n",
        "encoders['City_Encoded'] = city_encoder.fit_transform(\n",
        "    tourism_with_id_clean['City']\n",
        ")"
      ],
      "metadata": {
        "id": "TtaBNGYYKCkS"
      },
      "execution_count": 25,
      "outputs": []
    },
    {
      "cell_type": "markdown",
      "source": [
        "**Encoding Kategori dan Kota dengan LabelEncoder**\n",
        "\n",
        "Kode ini mengubah kolom kategorikal (`Category` dan `City`) menjadi angka menggunakan `LabelEncoder` dari scikit-learn.\n",
        "\n",
        "**Tujuan:**  \n",
        "Mempermudah pemrosesan data oleh algoritma machine learning yang biasanya membutuhkan input numerik, bukan teks.\n"
      ],
      "metadata": {
        "id": "T-9Jyd-h0NhQ"
      }
    },
    {
      "cell_type": "code",
      "source": [
        "from sklearn.preprocessing import MinMaxScaler\n",
        "\n",
        "scaler = MinMaxScaler()\n",
        "numerical_columns = ['Price', 'Rating']\n",
        "available_numerical = [col for col in numerical_columns if col in tourism_with_id_clean.columns]\n",
        "\n",
        "if available_numerical:\n",
        "    normalized_cols = [f\"{col}_Normalized\" for col in available_numerical]\n",
        "    tourism_with_id_clean[normalized_cols] = scaler.fit_transform(tourism_with_id_clean[available_numerical])\n",
        "    print(f\"Normalized columns: {normalized_cols}\")"
      ],
      "metadata": {
        "id": "pFPAtsMsKH73",
        "colab": {
          "base_uri": "https://localhost:8080/"
        },
        "outputId": "1c952b6c-62be-4a4a-d400-623567ae10c5"
      },
      "execution_count": 26,
      "outputs": [
        {
          "output_type": "stream",
          "name": "stdout",
          "text": [
            "Normalized columns: ['Price_Normalized', 'Rating_Normalized']\n"
          ]
        }
      ]
    },
    {
      "cell_type": "markdown",
      "source": [
        "**Normalisasi Data Numerik dengan MinMaxScaler**\n",
        "\n",
        "Kode ini melakukan normalisasi pada kolom numerik seperti `Price` dan `Rating` menggunakan `MinMaxScaler` dari scikit-learn.\n",
        "\n",
        "**Tujuan:**  \n",
        "Menskala nilai numerik ke rentang 0-1 agar model machine learning bekerja lebih efektif dan hasilnya tidak bias karena skala data yang berbeda-beda.\n"
      ],
      "metadata": {
        "id": "Le0AsDLd0XVw"
      }
    },
    {
      "cell_type": "markdown",
      "source": [
        "# Data Preparation"
      ],
      "metadata": {
        "id": "qUwniYV5KgRr"
      }
    },
    {
      "cell_type": "code",
      "source": [
        "# Create content-based features\n",
        "content_features = tourism_with_id_clean.copy()"
      ],
      "metadata": {
        "id": "TtjAwp_DtvHY"
      },
      "execution_count": 27,
      "outputs": []
    },
    {
      "cell_type": "markdown",
      "source": [
        "Menyalin data pada tourism_with_id_clean dan menyimpannya kedalam content_features, supaya data aslinya tidak rusak"
      ],
      "metadata": {
        "id": "anLMrJWh0bPK"
      }
    },
    {
      "cell_type": "code",
      "source": [
        "# Popularity Score\n",
        "if 'Rating_Normalized' in content_features.columns and 'Total_Ratings' in content_features.columns:\n",
        "    content_features['Popularity_Score'] = (\n",
        "        content_features['Rating_Normalized'] *\n",
        "        np.log1p(content_features['Total_Ratings'])\n",
        "    )\n",
        "    print(\"Popularity_Score created\")"
      ],
      "metadata": {
        "id": "nNPJSg9xuB-d"
      },
      "execution_count": 28,
      "outputs": []
    },
    {
      "cell_type": "markdown",
      "source": [
        "**Membuat Fitur Popularity Score**\n",
        "\n",
        "Kode ini membuat fitur baru `Popularity_Score`\n",
        "\n",
        "**Tujuan:**  \n",
        "Menyusun skor popularitas tempat wisata dengan mempertimbangkan kualitas rating dan seberapa ramah harga (budget friendly), untuk membantu menentukan tempat wisata yang menarik dan terjangkau bagi pengguna.\n"
      ],
      "metadata": {
        "id": "PYsN8m7X1EHf"
      }
    },
    {
      "cell_type": "code",
      "source": [
        "# Price Category\n",
        "if 'Price_Normalized' in content_features.columns:\n",
        "    content_features['Price_Category'] = pd.cut(\n",
        "        content_features['Price_Normalized'],\n",
        "        bins=3,\n",
        "        labels=['Low', 'Medium', 'High']\n",
        "    ).astype('category').cat.codes\n",
        "    print(\"Price_Category created\")"
      ],
      "metadata": {
        "colab": {
          "base_uri": "https://localhost:8080/"
        },
        "id": "0MGHOcVpuG8j",
        "outputId": "0c296fda-0146-4931-fed6-a1b3f84c8a9f"
      },
      "execution_count": 29,
      "outputs": [
        {
          "output_type": "stream",
          "name": "stdout",
          "text": [
            "Price_Category created\n"
          ]
        }
      ]
    },
    {
      "cell_type": "markdown",
      "source": [
        "**Membuat Fitur Price Category**\n",
        "\n",
        "Kode ini mengelompokkan harga yang sudah dinormalisasi (`Price_Normalized`) ke dalam tiga kategori: Low, Medium, dan High, lalu mengubahnya menjadi kode kategori numerik.\n",
        "\n",
        "**Tujuan:**  \n",
        "Mengklasifikasikan tempat wisata berdasarkan tingkat harga untuk memudahkan analisis dan segmentasi harga.\n"
      ],
      "metadata": {
        "id": "tdx0Y3Oj1MQp"
      }
    },
    {
      "cell_type": "code",
      "source": [
        "print(f\"\\nFINAL FEATURES SHAPE: {content_features.shape}\")"
      ],
      "metadata": {
        "colab": {
          "base_uri": "https://localhost:8080/"
        },
        "id": "Har2BEUquLpc",
        "outputId": "01e2b2bb-92b6-4695-dbde-dbf4ef83e47e"
      },
      "execution_count": 30,
      "outputs": [
        {
          "output_type": "stream",
          "name": "stdout",
          "text": [
            "\n",
            "FINAL FEATURES SHAPE: (437, 11)\n"
          ]
        }
      ]
    },
    {
      "cell_type": "markdown",
      "source": [
        "**Mengecek Ukuran Data Fitur Akhir**\n",
        "\n",
        "Kode ini menampilkan ukuran (jumlah baris dan kolom) dari dataframe `content_features` setelah semua proses pembuatan fitur selesai.\n",
        "\n",
        "**Tujuan:**  \n",
        "Memastikan data fitur sudah lengkap dan siap untuk tahap analisis atau modeling selanjutnya.\n"
      ],
      "metadata": {
        "id": "Acecnzv81aDe"
      }
    },
    {
      "cell_type": "code",
      "source": [
        "#Menyimpan Data\n",
        "# Save all processed data for collaborative filtering\n",
        "tourism_with_id_clean.to_csv('tourism_processed.csv', index=False)\n",
        "tourism_rating.to_csv('rating_processed.csv', index=False)\n",
        "content_features.to_csv('content_features.csv', index=False)"
      ],
      "metadata": {
        "id": "iy4BXR9CKTGL"
      },
      "execution_count": 31,
      "outputs": []
    },
    {
      "cell_type": "markdown",
      "source": [
        "**Menyimpan Data yang Sudah Diproses**\n",
        "\n",
        "Kode ini menyimpan tiga dataset yang sudah dibersihkan dan diproses ke dalam file CSV:\n",
        "\n",
        "- `tourism_processed.csv` — data wisata dengan informasi lengkap dan bersih  \n",
        "- `rating_processed.csv` — data rating dari user  \n",
        "- `content_features.csv` — data fitur yang sudah diolah untuk analisis lebih lanjut\n",
        "\n",
        "**Tujuan:**  \n",
        "Memudahkan penggunaan data yang sudah siap pakai untuk analisis, pemodelan, atau kolaborasi tanpa harus mengulang proses pembersihan dan transformasi data.\n"
      ],
      "metadata": {
        "id": "KmOnQunt1kJU"
      }
    },
    {
      "cell_type": "code",
      "source": [
        "# Save encoders and scalers for collaborative filtering\n",
        "import pickle\n",
        "\n",
        "with open('encoders.pkl', 'wb') as f:\n",
        "    pickle.dump(encoders, f)\n",
        "\n",
        "with open('scaler.pkl', 'wb') as f:\n",
        "    pickle.dump(scaler, f)"
      ],
      "metadata": {
        "id": "muHEmBeaxz2n"
      },
      "execution_count": 32,
      "outputs": []
    },
    {
      "cell_type": "markdown",
      "source": [
        "**Menyimpan Encoder dan Scaler**\n",
        "\n",
        "Kode ini menggunakan `pickle` untuk menyimpan objek:\n",
        "\n",
        "- `encoders.pkl` berisi encoder (LabelEncoder) yang sudah dilatih untuk fitur kategori seperti 'Category' dan 'City'.\n",
        "- `scaler.pkl` berisi objek scaler (MinMaxScaler) yang digunakan untuk normalisasi fitur numerik.\n",
        "\n",
        "**Tujuan:**  \n",
        "Agar proses encoding dan normalisasi dapat digunakan ulang saat memproses data baru atau saat penerapan model, memastikan konsistensi transformasi data di masa depan.\n"
      ],
      "metadata": {
        "id": "CSBCeXpH1weK"
      }
    },
    {
      "cell_type": "markdown",
      "source": [
        "# Modelling"
      ],
      "metadata": {
        "id": "3e4v5sv9Mb47"
      }
    },
    {
      "cell_type": "markdown",
      "source": [
        "### Content Base Filtering"
      ],
      "metadata": {
        "id": "2hmub-VcMeBK"
      }
    },
    {
      "cell_type": "code",
      "source": [
        "# Select features for similarity calculation\n",
        "feature_columns = []\n",
        "potential_features = [\n",
        "    'Category_Encoded', 'City_Encoded', 'Price_Normalized',\n",
        "    'Rating_Normalized',\n",
        "    'Popularity_Score', 'Price_Category'\n",
        "]"
      ],
      "metadata": {
        "id": "jP7c_8Sbli-i"
      },
      "execution_count": 33,
      "outputs": []
    },
    {
      "cell_type": "markdown",
      "source": [
        "**Pemilihan Fitur untuk Perhitungan Similarity**\n",
        "\n",
        "- `feature_columns`: Variabel kosong yang akan diisi dengan fitur-fitur yang digunakan untuk menghitung kemiripan antar tempat wisata.\n",
        "- `potential_features`: Daftar fitur yang berpotensi dipakai, meliputi encoding kategori dan kota, fitur numerik yang sudah dinormalisasi, serta fitur turunan seperti Budget_Friendliness, Is_Premium, Popularity_Score, dan Price_Category.\n",
        "\n",
        "**Tujuan:**  \n",
        "Memilih fitur relevan untuk analisis similarity atau rekomendasi tempat wisata berbasis konten agar model dapat mengenali kemiripan antar objek dengan lebih baik.\n"
      ],
      "metadata": {
        "id": "7n-cFjEp2Dvh"
      }
    },
    {
      "cell_type": "code",
      "source": [
        "# Only use available features\n",
        "for col in potential_features:\n",
        "    if col in content_features.columns:\n",
        "        feature_columns.append(col)\n",
        "\n",
        "print(f\"FEATURES FOR SIMILARITY: {feature_columns}\")"
      ],
      "metadata": {
        "colab": {
          "base_uri": "https://localhost:8080/"
        },
        "id": "59WHjpZ9lqEg",
        "outputId": "f9a7c727-a3b2-4de0-eb3d-c7dc21b64f50"
      },
      "execution_count": 34,
      "outputs": [
        {
          "output_type": "stream",
          "name": "stdout",
          "text": [
            "FEATURES FOR SIMILARITY: ['Price_Normalized', 'Rating_Normalized', 'Price_Category']\n"
          ]
        }
      ]
    },
    {
      "cell_type": "markdown",
      "source": [
        "**Seleksi Fitur yang Tersedia**\n",
        "\n",
        "- Melakukan pengecekan fitur `potential_features` satu per satu.\n",
        "- Jika fitur tersebut ada di `content_features`, maka dimasukkan ke dalam `feature_columns`.\n",
        "- Menampilkan daftar fitur final yang akan dipakai untuk perhitungan similarity.\n",
        "\n",
        "**Tujuan:**  \n",
        "Memastikan hanya fitur yang benar-benar ada di dataset yang digunakan untuk menghindari error dan menjaga kualitas analisis similarity.\n"
      ],
      "metadata": {
        "id": "X9GjT8L-2Ryc"
      }
    },
    {
      "cell_type": "code",
      "source": [
        "# Create feature matrix\n",
        "feature_matrix = content_features[feature_columns].values\n",
        "print(f\"Feature matrix shape: {feature_matrix.shape}\")"
      ],
      "metadata": {
        "colab": {
          "base_uri": "https://localhost:8080/"
        },
        "id": "5xdhCWJxlvar",
        "outputId": "ccef9149-3da1-45ed-9296-72127a35107f"
      },
      "execution_count": 35,
      "outputs": [
        {
          "output_type": "stream",
          "name": "stdout",
          "text": [
            "Feature matrix shape: (437, 3)\n"
          ]
        }
      ]
    },
    {
      "cell_type": "markdown",
      "source": [
        "**Membuat Matriks Fitur**\n",
        "\n",
        "- Membuat matriks fitur (`feature_matrix`) dengan mengambil kolom-kolom yang sudah dipilih (`feature_columns`) dari dataset `content_features`.\n",
        "- Menampilkan bentuk (`shape`) matriks fitur tersebut.\n",
        "\n",
        "**Tujuan:**  \n",
        "Menyiapkan data numerik dalam bentuk matriks yang siap digunakan untuk perhitungan similarity atau algoritma machine learning selanjutnya.\n"
      ],
      "metadata": {
        "id": "2Iw3Y_e22lZY"
      }
    },
    {
      "cell_type": "code",
      "source": [
        "from sklearn.metrics.pairwise import cosine_similarity\n",
        "# Calculate similarity matrix\n",
        "print(\"Computing cosine similarity...\")\n",
        "similarity_matrix = cosine_similarity(feature_matrix)\n",
        "print(f\"Similarity matrix created: {similarity_matrix.shape}\")"
      ],
      "metadata": {
        "id": "eS-gIgG4k4Pj",
        "colab": {
          "base_uri": "https://localhost:8080/"
        },
        "outputId": "7468eaaf-c366-4627-a212-942d7e88a6f1"
      },
      "execution_count": 36,
      "outputs": [
        {
          "output_type": "stream",
          "name": "stdout",
          "text": [
            "Computing cosine similarity...\n",
            "Similarity matrix created: (437, 437)\n"
          ]
        }
      ]
    },
    {
      "cell_type": "markdown",
      "source": [
        "**Menghitung Matriks Similarity dengan Cosine Similarity**\n",
        "\n",
        "- Menggunakan `cosine_similarity` dari sklearn untuk menghitung kemiripan antar objek berdasarkan matriks fitur.\n",
        "- Menampilkan ukuran matriks similarity yang dihasilkan.\n",
        "\n",
        "**Tujuan:**  \n",
        "Membuat matriks similarity yang menunjukkan seberapa mirip tiap objek wisata satu dengan lainnya berdasarkan fitur numerik yang sudah dipilih. Matriks ini penting untuk rekomendasi berbasis content filtering.\n"
      ],
      "metadata": {
        "id": "94W4cXb72-p8"
      }
    },
    {
      "cell_type": "markdown",
      "source": [
        "### Evalusi Model"
      ],
      "metadata": {
        "id": "MN4vKQirdEOt"
      }
    },
    {
      "cell_type": "code",
      "source": [
        "print(\"\\nRECOMMENDATION FUNCTIONS\")\n",
        "print(\"-\" * 30)\n",
        "\n",
        "def get_content_recommendations(place_name, n=5, show=True):\n",
        "    try:\n",
        "        # Pastikan kolom tersedia\n",
        "        if 'Place_Name' not in content_features.columns:\n",
        "            print(\"Kolom 'Place_Name' tidak ditemukan.\")\n",
        "            return None\n",
        "\n",
        "        # Ambil indeks tempat\n",
        "        idx = content_features.index[content_features['Place_Name'] == place_name].tolist()\n",
        "        if not idx:\n",
        "            print(f\" '{place_name}' tidak ditemukan.\")\n",
        "            show_available_places()\n",
        "            return None\n",
        "        idx = idx[0]\n",
        "\n",
        "        # Hitung skor kemiripan\n",
        "        sim_scores = list(enumerate(similarity_matrix[idx]))\n",
        "        sim_scores = sorted(sim_scores, key=lambda x: x[1], reverse=True)[1:n+1]\n",
        "\n",
        "        # Ambil data rekomendasi\n",
        "        top_idx = [i for i, _ in sim_scores]\n",
        "        recommendations = content_features.loc[top_idx, ['Place_Name']].copy()\n",
        "        recommendations['Similarity_Score'] = [s for _, s in sim_scores]\n",
        "\n",
        "        # Tambahkan kolom opsional jika ada\n",
        "        for col in ['Category', 'City', 'Rating_Normalized', 'Price_Normalized']:\n",
        "            if col in content_features.columns:\n",
        "                recommendations[col] = content_features.loc[top_idx, col]\n",
        "\n",
        "        # Tampilkan\n",
        "        if show:\n",
        "            print(f\"\\nREKOMENDASI UNTUK: '{place_name}'\")\n",
        "            print(\"=\" * 50)\n",
        "            for i, row in recommendations.iterrows():\n",
        "                print(f\"{i+1}. {row['Place_Name']} (Similarity: {row['Similarity_Score']:.3f})\")\n",
        "                for col in ['Category', 'City', 'Rating_Normalized', 'Price_Normalized']:\n",
        "                    if col in row:\n",
        "                        print(f\"   {col.replace('_', ' ')}: {row[col]}\")\n",
        "                print(\"-\" * 40)\n",
        "\n",
        "        return recommendations\n",
        "\n",
        "    except Exception as e:\n",
        "        print(f\"Error: {e}\")\n",
        "        return None\n",
        "\n",
        "def show_available_places(n=20):\n",
        "    if 'Place_Name' in content_features.columns:\n",
        "        places = content_features['Place_Name'].head(n)\n",
        "        print(f\"\\nAvailable Places (first {n}):\")\n",
        "        for i, name in enumerate(places, 1):\n",
        "            print(f\"{i:2d}. {name}\")\n",
        "        print(f\"... and {len(content_features) - n} more (Total: {len(content_features)})\")\n",
        "    else:\n",
        "        print(\" Kolom 'Place_Name' tidak ditemukan.\")\n"
      ],
      "metadata": {
        "colab": {
          "base_uri": "https://localhost:8080/"
        },
        "id": "7uhZLnfQmBJi",
        "outputId": "6b61d6d0-b179-4602-c8f1-fcd3a7b451cd"
      },
      "execution_count": 37,
      "outputs": [
        {
          "output_type": "stream",
          "name": "stdout",
          "text": [
            "\n",
            "RECOMMENDATION FUNCTIONS\n",
            "------------------------------\n"
          ]
        }
      ]
    },
    {
      "cell_type": "markdown",
      "source": [
        "**Fungsi Rekomendasi Tempat Wisata Berdasarkan Content Similarity**\n",
        "\n",
        "- `get_content_recommendations(place_name, n=5, show=True)`  \n",
        "  Fungsi utama untuk mendapatkan rekomendasi tempat wisata serupa berdasarkan nama tempat yang diberikan.  \n",
        "  - Memeriksa keberadaan kolom `Place_Name`.  \n",
        "  - Mencari indeks tempat input.  \n",
        "  - Mengurutkan similarity score dan mengambil top-N rekomendasi.  \n",
        "  - Menampilkan hasil rekomendasi dengan skor similarity dan info opsional (kategori, kota, rating, harga).  \n",
        "  - Menangani error dan kasus tempat tidak ditemukan.\n",
        "\n",
        "- `show_available_places(n=20)`  \n",
        "  Fungsi bantu untuk menampilkan daftar tempat wisata yang tersedia (default 20 tempat pertama).\n",
        "\n",
        "---\n",
        "\n",
        "**Kegunaan:**  \n",
        "Mempermudah pencarian rekomendasi tempat wisata yang mirip secara fitur, meningkatkan pengalaman pengguna dalam menemukan destinasi baru sesuai preferensi.\n",
        "\n"
      ],
      "metadata": {
        "id": "eDh3565e3OSH"
      }
    },
    {
      "cell_type": "code",
      "source": [
        "print(\"\\nTESTING CONTENT-BASED RECOMMENDATIONS\")\n",
        "print(\"-\" * 30)\n",
        "\n",
        "\n",
        "# Coba rekomendasi untuk satu tempat\n",
        "if 'Place_Name' in content_features.columns and not content_features.empty:\n",
        "    test_place = content_features['Place_Name'].iloc[7]\n",
        "    print(f\"\\nTesting with: '{test_place}'\")\n",
        "\n",
        "    recommendations = get_content_recommendations(test_place, n=5)\n",
        "\n",
        "    if recommendations is not None:\n",
        "        print(\"\\nRECOMMENDATION ANALYSIS:\")\n",
        "        print(f\"- Avg. Similarity: {recommendations['Similarity_Score'].mean():.3f}\")\n",
        "\n",
        "        for col in ['Category', 'City']:\n",
        "            if col in recommendations.columns:\n",
        "                print(f\"- {col} diversity: {recommendations[col].nunique()} unique\")\n"
      ],
      "metadata": {
        "id": "p18Kxkihkfi6",
        "colab": {
          "base_uri": "https://localhost:8080/"
        },
        "outputId": "616f244f-7b91-4d0c-90e5-5319ba222b04"
      },
      "execution_count": 38,
      "outputs": [
        {
          "output_type": "stream",
          "name": "stdout",
          "text": [
            "\n",
            "TESTING CONTENT-BASED RECOMMENDATIONS\n",
            "------------------------------\n",
            "\n",
            "Testing with: 'Ocean Ecopark'\n",
            "\n",
            "REKOMENDASI UNTUK: 'Ocean Ecopark'\n",
            "==================================================\n",
            "72. Waterboom PIK (Pantai Indah Kapuk) (Similarity: 1.000)\n",
            "   Category: Taman Hiburan\n",
            "   City: Jakarta\n",
            "   Rating Normalized: 0.625\n",
            "   Price Normalized: 0.3333333333333333\n",
            "----------------------------------------\n",
            "214. Trans Studio Bandung (Similarity: 0.998)\n",
            "   Category: Taman Hiburan\n",
            "   City: Bandung\n",
            "   Rating Normalized: 0.6875\n",
            "   Price Normalized: 0.3111111111111111\n",
            "----------------------------------------\n",
            "12. Pulau Pari (Similarity: 0.997)\n",
            "   Category: Bahari\n",
            "   City: Jakarta\n",
            "   Rating Normalized: 0.375\n",
            "   Price Normalized: 0.16666666666666666\n",
            "----------------------------------------\n",
            "120. Bukit Panguk Kediwung (Similarity: 0.994)\n",
            "   Category: Budaya\n",
            "   City: Yogyakarta\n",
            "   Rating Normalized: 0.6875\n",
            "   Price Normalized: 0.27777777777777773\n",
            "----------------------------------------\n",
            "3. Dunia Fantasi (Similarity: 0.994)\n",
            "   Category: Taman Hiburan\n",
            "   City: Jakarta\n",
            "   Rating Normalized: 0.75\n",
            "   Price Normalized: 0.3\n",
            "----------------------------------------\n",
            "\n",
            "RECOMMENDATION ANALYSIS:\n",
            "- Avg. Similarity: 0.997\n",
            "- Category diversity: 3 unique\n",
            "- City diversity: 3 unique\n"
          ]
        }
      ]
    },
    {
      "cell_type": "markdown",
      "source": [
        "**Penjelasan Kode Testing Content-Based Recommendations**\n",
        "\n",
        "- *Pengujian Rekomendasi untuk Tempat Wisata Tertentu*  \n",
        "  Memilih satu tempat wisata (`test_place`) dari data sebagai contoh untuk diberikan rekomendasi.\n",
        "\n",
        "- *Fungsi `get_content_recommendations(test_place, n=5)`*  \n",
        "  Menghasilkan 5 rekomendasi tempat wisata paling mirip berdasarkan fitur konten (kategori, kota, rating, harga, dll).\n",
        "\n",
        "- *Output Rekomendasi*  \n",
        "  Menampilkan daftar tempat wisata yang direkomendasikan beserta skor kemiripan dan beberapa atribut terkait.\n",
        "\n",
        "- *Analisis Rekomendasi*  \n",
        "  Menghitung rata-rata skor kemiripan dari rekomendasi dan menilai keberagaman kategori dan kota untuk melihat variasi rekomendasi.\n",
        "\n",
        "---\n",
        "\n",
        "**Tujuan**\n",
        "\n",
        "Kode ini bertujuan untuk menguji dan menampilkan hasil rekomendasi berbasis konten agar dapat melihat efektivitas model dalam merekomendasikan tempat wisata yang serupa dan relevan secara cepat dan praktis.\n"
      ],
      "metadata": {
        "id": "1tKUJnug3z1i"
      }
    }
  ]
}